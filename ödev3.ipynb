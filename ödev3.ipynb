{
 "cells": [
  {
   "cell_type": "code",
   "execution_count": 2,
   "metadata": {},
   "outputs": [
    {
     "name": "stdout",
     "output_type": "stream",
     "text": [
      "[('ocak', 31), ('şubat', 28), ('mart', 31), ('nisan', 30), ('mayıs', 31), ('haziran', 30), ('temmuz', 31), ('ağustos', 31), ('eylül', 30), ('ekim', 31), ('kasım', 30), ('aralık', 31)] \n",
      "\n",
      "['ocak', 'şubat', 'mart', 'nisan', 'mayıs', 'haziran', 'temmuz', 'ağustos', 'eylül', 'ekim', 'kasım', 'aralık']\n",
      " \n",
      "[31, 28, 31, 30, 31, 30, 31, 31, 30, 31, 30, 31]\n"
     ]
    }
   ],
   "source": [
    "aylar={ 'ocak': 31, 'şubat': 28, 'mart':31,'nisan':30, 'mayıs':31, 'haziran':30, \n",
    "       'temmuz':31, 'ağustos':31, 'eylül':30, 'ekim':31, 'kasım':30, \"aralık\":31 \n",
    "       }\n",
    "print(list(aylar.items()), '\\n')\n",
    "\n",
    "Ay={'ay':list(aylar.keys()), 'gün':list(aylar.values())}\n",
    "\n",
    "print(Ay['ay'], Ay['gün'], sep='\\n \\n')\n"
   ]
  },
  {
   "cell_type": "code",
   "execution_count": 5,
   "metadata": {},
   "outputs": [
    {
     "name": "stdout",
     "output_type": "stream",
     "text": [
      "92\n"
     ]
    }
   ],
   "source": [
    "ilkbahar=['mart', 'nisan', 'mayıs']\n",
    "yaz=['haziran','temmuz', 'ağustos']\n",
    "sonbahar=['eylül', 'ekim', 'kasım']\n",
    "kış=['aralık', 'ocak', 'şubat']\n",
    "\n",
    "print(aylar[yaz[0]]+ aylar[yaz[1]]+aylar[yaz[2]])"
   ]
  }
 ],
 "metadata": {
  "kernelspec": {
   "display_name": "Python 3",
   "language": "python",
   "name": "python3"
  },
  "language_info": {
   "codemirror_mode": {
    "name": "ipython",
    "version": 3
   },
   "file_extension": ".py",
   "mimetype": "text/x-python",
   "name": "python",
   "nbconvert_exporter": "python",
   "pygments_lexer": "ipython3",
   "version": "3.8.2"
  }
 },
 "nbformat": 4,
 "nbformat_minor": 4
}
