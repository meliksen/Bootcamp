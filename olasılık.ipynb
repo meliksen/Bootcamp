{
 "cells": [
  {
   "cell_type": "code",
   "execution_count": 1,
   "metadata": {},
   "outputs": [
    {
     "name": "stdout",
     "output_type": "stream",
     "text": [
      "Rastgele seçilen bozuk bir bilgisayarın B şirketi tarafından üretilme olasılığı:  0.5\n"
     ]
    }
   ],
   "source": [
    "#Şirketlerin üretim oranları\n",
    "PA = 0.40\n",
    "PB = 0.40\n",
    "PC = 0.20\n",
    "\n",
    "#Bozuk bilgisayar oranları\n",
    "PDA = 0.015\n",
    "PDB = 0.020\n",
    "PDC = 0.010\n",
    "\n",
    "#Toplam bozuk bilgisayar\n",
    "toplam_bozuk_bilgisayar = PA*PDA + PB*PDB + PC*PDC \n",
    "\n",
    "# B şirketinin bozuk bilgisayar sayısı\n",
    "b_bozuk_bilgisayar = PB*PDB \n",
    "\n",
    "sonuc = b_bozuk_bilgisayar / toplam_bozuk_bilgisayar\n",
    "\n",
    "print('Rastgele seçilen bozuk bir bilgisayarın B şirketi tarafından üretilme olasılığı: ', sonuc)"
   ]
  }
 ],
 "metadata": {
  "kernelspec": {
   "display_name": "Python 3",
   "language": "python",
   "name": "python3"
  },
  "language_info": {
   "codemirror_mode": {
    "name": "ipython",
    "version": 3
   },
   "file_extension": ".py",
   "mimetype": "text/x-python",
   "name": "python",
   "nbconvert_exporter": "python",
   "pygments_lexer": "ipython3",
   "version": "3.8.2"
  }
 },
 "nbformat": 4,
 "nbformat_minor": 4
}
