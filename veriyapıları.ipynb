{
 "cells": [
  {
   "cell_type": "code",
   "execution_count": 4,
   "metadata": {
    "scrolled": true
   },
   "outputs": [
    {
     "name": "stdout",
     "output_type": "stream",
     "text": [
      "{1: 'pazartesi', 2: ' salı', 3: 'çarşamba', 4: 'perşembe', 5: 'cuma', 6: 'cumartesi', 7: 'pazar'}\n",
      "seçmek istediğiniz günleri giriniz:25\n",
      "silinecek günler:   salı cuma\n",
      "pazartesi çarşamba perşembe cumartesi pazar\n"
     ]
    }
   ],
   "source": [
    "günler={1:'pazartesi',\n",
    "        2:' salı',\n",
    "        3:'çarşamba',\n",
    "        4:'perşembe',\n",
    "        5:'cuma',\n",
    "        6:'cumartesi',\n",
    "        7:'pazar',       \n",
    "       }\n",
    "print(günler)\n",
    "secilen=input(\"seçmek istediğiniz günleri giriniz:\")\n",
    "\n",
    "print(\"silinecek günler: \",günler[int(secilen[0])] ,günler[int(secilen[1])])\n",
    "\n",
    "del günler[int(secilen[0])], günler[int(secilen[1])]\n",
    "\n",
    "print(*günler.values())\n"
   ]
  },
  {
   "cell_type": "code",
   "execution_count": 20,
   "metadata": {
    "scrolled": true
   },
   "outputs": [
    {
     "name": "stdout",
     "output_type": "stream",
     "text": [
      "[('ocak', 31), ('şubat', 28), ('mart', 31), ('nisan', 30), ('mayıs', 31), ('haziran', 30), ('temmuz', 31), ('ağustos', 31), ('eylül', 30), ('ekim', 31), ('kasım', 30), ('aralık', 31)] \n",
      "\n",
      "[['ocak', 'şubat', 'mart', 'nisan', 'mayıs', 'haziran', 'temmuz', 'ağustos', 'eylül', 'ekim', 'kasım', 'aralık'], [31, 28, 31, 30, 31, 30, 31, 31, 30, 31, 30, 31]]\n"
     ]
    }
   ],
   "source": [
    "aylar={ 'ocak': 31, 'şubat': 28, 'mart':31,'nisan':30, 'mayıs':31, 'haziran':30, \n",
    "       'temmuz':31, 'ağustos':31, 'eylül':30, 'ekim':31, 'kasım':30, \"aralık\":31 \n",
    "       }\n",
    "\n",
    "print(list(aylar.items()), '\\n')\n",
    "\n",
    "ay=[list(aylar.keys()),list(aylar.values())]\n",
    "\n",
    "print(ay)"
   ]
  },
  {
   "cell_type": "code",
   "execution_count": 7,
   "metadata": {},
   "outputs": [
    {
     "name": "stdout",
     "output_type": "stream",
     "text": [
      "92\n"
     ]
    }
   ],
   "source": [
    "ilkbahar=['mart', 'nisan', 'mayıs']\n",
    "yaz=['haziran','temmuz', 'ağustos']\n",
    "sonbahar=['eylül', 'ekim', 'kasım']\n",
    "kış=['aralık', 'ocak', 'şubat']\n",
    "\n",
    "print(aylar[yaz[0]]+ aylar[yaz[1]]+aylar[yaz[2]])"
   ]
  }
 ],
 "metadata": {
  "kernelspec": {
   "display_name": "Python 3",
   "language": "python",
   "name": "python3"
  },
  "language_info": {
   "codemirror_mode": {
    "name": "ipython",
    "version": 3
   },
   "file_extension": ".py",
   "mimetype": "text/x-python",
   "name": "python",
   "nbconvert_exporter": "python",
   "pygments_lexer": "ipython3",
   "version": "3.8.2"
  }
 },
 "nbformat": 4,
 "nbformat_minor": 4
}
