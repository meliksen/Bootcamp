{
 "cells": [
  {
   "cell_type": "code",
   "execution_count": 11,
   "metadata": {},
   "outputs": [
    {
     "name": "stdout",
     "output_type": "stream",
     "text": [
      "dize sayısı:  12\n",
      "['Artık\\n', 'Meçhule\\n', 'Hiç\\n', 'Sallanmaz\\n', 'Rıhtımda\\n', 'Günlerce\\n', 'Biçare\\n', 'Hicranlı\\n', 'Dünyada\\n', 'Bilmez\\n', 'Birçok\\n', 'Birçok\\n']\n"
     ]
    }
   ],
   "source": [
    "with open(\"siir.txt\", \"r\") as file:\n",
    "    dize=file.readlines()\n",
    "    print(\"dize sayısı: \",len(dize))\n",
    "\n",
    "with open(\"siir2.txt\", 'w') as file:\n",
    "    for i in dize:\n",
    "        kelime = i.split(\" \")\n",
    "        file.write(kelime[0])\n",
    "        file.write('\\n')       \n",
    "\n",
    "with open(\"siir2.txt\", \"r\") as file:\n",
    "    dize = file.readlines()\n",
    "    print(dize)\n"
   ]
  },
  {
   "cell_type": "code",
   "execution_count": 8,
   "metadata": {},
   "outputs": [
    {
     "name": "stdout",
     "output_type": "stream",
     "text": [
      "Sayı giriniz: 17\n",
      "Sayı asaldır\n"
     ]
    }
   ],
   "source": [
    "def asal(sayi):\n",
    "    if sayi<2:\n",
    "        print(\"Sayı asal değildir\")\n",
    "    elif sayi==2:\n",
    "        print(\"Sayı asaldır\")\n",
    "    else :\n",
    "        for i in range(2,sayi):\n",
    "            if(sayi%i==0):\n",
    "                print(\"Sayı asal değildir\")\n",
    "                break\n",
    "            else: \n",
    "                print(\"Sayı asaldır\")\n",
    "                break\n",
    "\n",
    "sayi=int(input('Sayı giriniz: '))\n",
    "\n",
    "asal(sayi)"
   ]
  },
  {
   "cell_type": "code",
   "execution_count": 1,
   "metadata": {},
   "outputs": [
    {
     "data": {
      "text/plain": [
       "[1, 2, 3, 5, 4, 9]"
      ]
     },
     "execution_count": 1,
     "metadata": {},
     "output_type": "execute_result"
    }
   ],
   "source": [
    "liste = [1,2,3,5,2,2,2,3,3,4,4,5,9,9,4]\n",
    "\n",
    "def listele(liste):\n",
    "    yeni_liste = []\n",
    "    for x in liste:\n",
    "        if x not in yeni_liste:\n",
    "            yeni_liste.append(x)\n",
    "    return yeni_liste\n",
    "\n",
    "listele(liste)"
   ]
  },
  {
   "cell_type": "code",
   "execution_count": 29,
   "metadata": {},
   "outputs": [
    {
     "name": "stdout",
     "output_type": "stream",
     "text": [
      "doğum yılınız:1996\n",
      "ay:01\n",
      "gün:10\n",
      "yaşınız: 24\n"
     ]
    }
   ],
   "source": [
    "import datetime\n",
    "from datetime import date\n",
    "\n",
    "now=date.today()\n",
    "yıl=int(input(\"doğum yılınız:\"))\n",
    "ay=int(input(\"ay:\"))\n",
    "gün=int(input(\"gün:\"))\n",
    "\n",
    "tarih=datetime.date(yıl,ay,gün)\n",
    "\n",
    "def hesapla(tarih):\n",
    "    if(tarih.month<now.month):\n",
    "        yas=now.year-tarih.year\n",
    "        return yas\n",
    "    else:\n",
    "        yas=now.year-tarih.year-1\n",
    "        return yas\n",
    "\n",
    "print(\"yaşınız:\", hesapla(tarih))"
   ]
  }
 ],
 "metadata": {
  "kernelspec": {
   "display_name": "Python 3",
   "language": "python",
   "name": "python3"
  },
  "language_info": {
   "codemirror_mode": {
    "name": "ipython",
    "version": 3
   },
   "file_extension": ".py",
   "mimetype": "text/x-python",
   "name": "python",
   "nbconvert_exporter": "python",
   "pygments_lexer": "ipython3",
   "version": "3.8.2"
  }
 },
 "nbformat": 4,
 "nbformat_minor": 4
}
