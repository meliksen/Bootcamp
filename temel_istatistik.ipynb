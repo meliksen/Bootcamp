{
 "cells": [
  {
   "cell_type": "code",
   "execution_count": 38,
   "metadata": {},
   "outputs": [
    {
     "name": "stdout",
     "output_type": "stream",
     "text": [
      " a: [17, 15, 23, 7, 9, 13]\n",
      " b: [ 8 72 75 89 38 33 98]\n",
      " b:[77 38 24  3 62 41  6]\n",
      "\n",
      "dizi seçiniz: a\n",
      "[17, 15, 23, 7, 9, 13]\n",
      "\n",
      "ortalama:  14.0\n",
      "mod :  17\n",
      "medyan: 13 15\n",
      "varyans:  33.2\n",
      "standart sapma :  5.761944116355173\n",
      "standart hata:  2.3523038352503134\n"
     ]
    }
   ],
   "source": [
    "import math\n",
    "import pandas as pd\n",
    "import numpy as np\n",
    "import statistics\n",
    "\n",
    "a=[17,15,23,7,9,13] \n",
    "b=np.random.randint(0,100,7)\n",
    "c=np.random.randint(0,100,7)\n",
    "print(\" a: {}\\n b: {}\\n b:{}\\n\".format(a,b,c))\n",
    "\n",
    "def formulile_hesap(dizi):\n",
    "    print(\"{}\\n\".format(dizi))\n",
    "    toplam=0\n",
    "    ortalama=0\n",
    "    kare_top=0\n",
    "    varyans=0\n",
    "    mod=0\n",
    "    #ortalama\n",
    "    for i in range(0,len(dizi)):\n",
    "        toplam+=dizi[i]\n",
    "        \n",
    "    ortalama=toplam/len(dizi)\n",
    "    print(\"ortalama: \", ortalama)\n",
    "    \n",
    "    #mod\n",
    "    for i in dizi:\n",
    "        if (dizi.count(i) > dizi.count(mod)):\n",
    "            mod = i\n",
    "    print(\"mod : \", mod)\n",
    "    \n",
    "    #medyan\n",
    "    dizi.sort()\n",
    "    if(len(dizi)%2==0):\n",
    "        print(\"medyan: {} {}\" .format(dizi[int(len(dizi)/2-1)], dizi[int(len(dizi)/2)]))\n",
    "    else:\n",
    "        print(\"medyan: \", dizi[int(len(dizi)/2)])\n",
    "    \n",
    "    #varyans\n",
    "    for i in range(0,len(dizi)):   \n",
    "        kare_top += (ortalama - dizi[i])**2\n",
    "        varyans=kare_top/(len(dizi)-1)\n",
    "    print(\"varyans: \",varyans)    \n",
    "    \n",
    "    print(\"standart sapma : \", math.sqrt(varyans))\n",
    "    print(\"standart hata: \", math.sqrt(varyans)/math.sqrt(len(dizi)))\n",
    "    \n",
    "secim=input(\"dizi seçiniz: \")\n",
    "if(secim=='a'):\n",
    "    formulile_hesap(a)\n",
    "elif(secim=='b'):\n",
    "    formulile_hesap(b)\n",
    "elif(secim=='c'):\n",
    "    formulile_hesap(c)"
   ]
  },
  {
   "cell_type": "code",
   "execution_count": 41,
   "metadata": {
    "scrolled": true
   },
   "outputs": [
    {
     "name": "stdout",
     "output_type": "stream",
     "text": [
      " a: [17, 15, 23, 7, 9, 13]\n",
      " b: [79 73 79 70 12 76 35]\n",
      " b:[70 21 46 35 20 51 76]\n",
      "\n",
      "dizi seçiniz: a\n",
      "[17, 15, 23, 7, 9, 13]\n",
      "\n",
      "ortalama: 14.0\n",
      "mod : 17\n",
      "medyan : 14.0\n",
      "varyans : 33.2\n",
      "standat sapma : 5.761944116355173\n",
      "standart hata : 2.3523038352503134\n"
     ]
    }
   ],
   "source": [
    "a=[17,15,23,7,9,13] \n",
    "b=np.random.randint(0,100,7)\n",
    "c=np.random.randint(0,100,7)\n",
    "print(\" a: {}\\n b: {}\\n b:{}\\n\".format(a,b,c))\n",
    "\n",
    "def hesapla(dizi):\n",
    "    print(\"{}\\n\".format(dizi))\n",
    "    print(\"ortalama: {}\".format(np.mean(dizi)))\n",
    "    print(\"mod : {}\".format(statistics.mode(dizi)))\n",
    "    print(\"medyan : {}\".format(np.median(dizi)))\n",
    "    print(\"varyans : {}\".format(np.var(dizi,ddof=1)))\n",
    "    print(\"standat sapma : {}\".format(np.std(dizi, ddof=1)))\n",
    "    print(\"standart hata : {}\" .format(np.std(dizi,ddof=1) / np.sqrt(len(dizi)))) \n",
    "    \n",
    "secim=input(\"dizi seçiniz: \")\n",
    "if(secim=='a'):\n",
    "    hesapla(a)\n",
    "elif(secim=='b'):\n",
    "    hesapla(b)\n",
    "elif(secim=='c'):\n",
    "    hesapla(c)"
   ]
  }
 ],
 "metadata": {
  "kernelspec": {
   "display_name": "Python 3",
   "language": "python",
   "name": "python3"
  },
  "language_info": {
   "codemirror_mode": {
    "name": "ipython",
    "version": 3
   },
   "file_extension": ".py",
   "mimetype": "text/x-python",
   "name": "python",
   "nbconvert_exporter": "python",
   "pygments_lexer": "ipython3",
   "version": "3.8.2"
  }
 },
 "nbformat": 4,
 "nbformat_minor": 4
}
