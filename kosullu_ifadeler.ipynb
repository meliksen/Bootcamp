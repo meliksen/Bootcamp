{
 "cells": [
  {
   "cell_type": "code",
   "execution_count": 1,
   "metadata": {},
   "outputs": [
    {
     "name": "stdout",
     "output_type": "stream",
     "text": [
      "değeri giriniz:52\n",
      "c/f:  f\n",
      "11.1\n"
     ]
    }
   ],
   "source": [
    "x=float(input('değeri giriniz:'))\n",
    "y=input('c/f:  ')\n",
    "fah='f'\n",
    "\n",
    "if y==fah :\n",
    "    sonuc = (5/9) * (x - 32)\n",
    "    \n",
    "else:\n",
    "    sonuc= (9/5)*x +32\n",
    "    \n",
    "print(\"{:.1f}\".format(sonuc))"
   ]
  },
  {
   "cell_type": "code",
   "execution_count": null,
   "metadata": {},
   "outputs": [],
   "source": [
    "kelime=input('kelime giriniz:')\n",
    "\n",
    "for x in range(len(kelime)-1,-1,-1):\n",
    "    print(kelime[x],end='')\n",
    "    "
   ]
  },
  {
   "cell_type": "code",
   "execution_count": null,
   "metadata": {},
   "outputs": [],
   "source": [
    "sayi1=1\n",
    "sayi2=1\n",
    "\n",
    "liste=[sayi1,sayi2]\n",
    "while(liste[-1]+liste[-2]<50):\n",
    "    sayi3=sayi1+sayi2\n",
    "    sayi1=sayi2\n",
    "    sayi2=sayi3\n",
    "    if(sayi3<50):   \n",
    "        liste.append(sayi3)\n",
    "        \n",
    "print(liste) "
   ]
  },
  {
   "cell_type": "code",
   "execution_count": null,
   "metadata": {},
   "outputs": [],
   "source": [
    "a=int(input('bir sayı giriniz:'))\n",
    "\n",
    "for i in range(1,11):\n",
    "    print('{} x {} = {} ' .format(a,i,a*i))"
   ]
  },
  {
   "cell_type": "code",
   "execution_count": null,
   "metadata": {},
   "outputs": [],
   "source": [
    "liste = [x**3 if x % 2 == 0 else x**2 for x in range(1,20)]\n",
    "print(liste)"
   ]
  }
 ],
 "metadata": {
  "kernelspec": {
   "display_name": "Python 3",
   "language": "python",
   "name": "python3"
  },
  "language_info": {
   "codemirror_mode": {
    "name": "ipython",
    "version": 3
   },
   "file_extension": ".py",
   "mimetype": "text/x-python",
   "name": "python",
   "nbconvert_exporter": "python",
   "pygments_lexer": "ipython3",
   "version": "3.8.2"
  }
 },
 "nbformat": 4,
 "nbformat_minor": 4
}
