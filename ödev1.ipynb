{
 "cells": [
  {
   "cell_type": "code",
   "execution_count": 1,
   "metadata": {},
   "outputs": [
    {
     "name": "stdout",
     "output_type": "stream",
     "text": [
      "2210.68\n"
     ]
    }
   ],
   "source": [
    "y=1000\n",
    "\n",
    "for i in range(0,7):\n",
    "    k=y*12/100+y\n",
    "    y=k\n",
    "print(\"{:.2f}\".format(k))"
   ]
  },
  {
   "cell_type": "code",
   "execution_count": 3,
   "metadata": {
    "scrolled": true
   },
   "outputs": [
    {
     "name": "stdout",
     "output_type": "stream",
     "text": [
      "Hafta başında 1000 dolarlık bitcoin aldığımızda günde ortalama %12 kazançla,\n",
      "bir hafta sonunda 2210.68 dolar kazanırdık. \n"
     ]
    }
   ],
   "source": [
    "print(\"Hafta başında {} dolarlık bitcoin aldığımızda günde ortalama %12 kazançla,\\nbir hafta sonunda {:.2f} dolar kazanırdık. \" .format(1000,k))"
   ]
  },
  {
   "cell_type": "code",
   "execution_count": 2,
   "metadata": {
    "scrolled": true
   },
   "outputs": [
    {
     "name": "stdout",
     "output_type": "stream",
     "text": [
      "Dosya Adı:melike\n",
      "Uzantılı Dosya Adı:melike.py\n"
     ]
    }
   ],
   "source": [
    "d=input(\"Dosya Adı:\")\n",
    "print(\"Uzantılı Dosya Adı:{}.py\".format(d))"
   ]
  }
 ],
 "metadata": {
  "kernelspec": {
   "display_name": "Python 3",
   "language": "python",
   "name": "python3"
  },
  "language_info": {
   "codemirror_mode": {
    "name": "ipython",
    "version": 3
   },
   "file_extension": ".py",
   "mimetype": "text/x-python",
   "name": "python",
   "nbconvert_exporter": "python",
   "pygments_lexer": "ipython3",
   "version": "3.8.2"
  }
 },
 "nbformat": 4,
 "nbformat_minor": 4
}
