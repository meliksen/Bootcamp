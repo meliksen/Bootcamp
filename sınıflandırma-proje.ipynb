{
 "cells": [
  {
   "cell_type": "code",
   "execution_count": 1,
   "metadata": {},
   "outputs": [],
   "source": [
    "import pandas as pd\n",
    "from sklearn import linear_model\n",
    "import numpy as np\n",
    "import seaborn as sns\n",
    "from pylab import rcParams\n",
    "import matplotlib.pyplot as plt\n",
    "from sklearn import datasets\n",
    "from sklearn.model_selection import train_test_split\n",
    "from sklearn.metrics import mean_absolute_error\n",
    "import statsmodels.api as sm\n",
    "from statsmodels.tools.eval_measures import mse, rmse\n",
    "from sklearn.linear_model import LogisticRegression\n",
    "from scipy.stats.mstats import winsorize\n",
    "from scipy.stats.stats import ttest_ind\n",
    "\n",
    "import warnings\n",
    "warnings.filterwarnings('ignore')"
   ]
  },
  {
   "cell_type": "code",
   "execution_count": 2,
   "metadata": {},
   "outputs": [],
   "source": [
    "df = pd.read_csv('WA_Fn-UseC_-Telco-Customer-Churn.csv')"
   ]
  },
  {
   "cell_type": "code",
   "execution_count": 3,
   "metadata": {},
   "outputs": [
    {
     "data": {
      "text/html": [
       "<div>\n",
       "<style scoped>\n",
       "    .dataframe tbody tr th:only-of-type {\n",
       "        vertical-align: middle;\n",
       "    }\n",
       "\n",
       "    .dataframe tbody tr th {\n",
       "        vertical-align: top;\n",
       "    }\n",
       "\n",
       "    .dataframe thead th {\n",
       "        text-align: right;\n",
       "    }\n",
       "</style>\n",
       "<table border=\"1\" class=\"dataframe\">\n",
       "  <thead>\n",
       "    <tr style=\"text-align: right;\">\n",
       "      <th></th>\n",
       "      <th>customerID</th>\n",
       "      <th>gender</th>\n",
       "      <th>SeniorCitizen</th>\n",
       "      <th>Partner</th>\n",
       "      <th>Dependents</th>\n",
       "      <th>tenure</th>\n",
       "      <th>PhoneService</th>\n",
       "      <th>MultipleLines</th>\n",
       "      <th>InternetService</th>\n",
       "      <th>OnlineSecurity</th>\n",
       "      <th>...</th>\n",
       "      <th>DeviceProtection</th>\n",
       "      <th>TechSupport</th>\n",
       "      <th>StreamingTV</th>\n",
       "      <th>StreamingMovies</th>\n",
       "      <th>Contract</th>\n",
       "      <th>PaperlessBilling</th>\n",
       "      <th>PaymentMethod</th>\n",
       "      <th>MonthlyCharges</th>\n",
       "      <th>TotalCharges</th>\n",
       "      <th>Churn</th>\n",
       "    </tr>\n",
       "  </thead>\n",
       "  <tbody>\n",
       "    <tr>\n",
       "      <th>0</th>\n",
       "      <td>7590-VHVEG</td>\n",
       "      <td>Female</td>\n",
       "      <td>0</td>\n",
       "      <td>Yes</td>\n",
       "      <td>No</td>\n",
       "      <td>1</td>\n",
       "      <td>No</td>\n",
       "      <td>No phone service</td>\n",
       "      <td>DSL</td>\n",
       "      <td>No</td>\n",
       "      <td>...</td>\n",
       "      <td>No</td>\n",
       "      <td>No</td>\n",
       "      <td>No</td>\n",
       "      <td>No</td>\n",
       "      <td>Month-to-month</td>\n",
       "      <td>Yes</td>\n",
       "      <td>Electronic check</td>\n",
       "      <td>29.85</td>\n",
       "      <td>29.85</td>\n",
       "      <td>No</td>\n",
       "    </tr>\n",
       "    <tr>\n",
       "      <th>1</th>\n",
       "      <td>5575-GNVDE</td>\n",
       "      <td>Male</td>\n",
       "      <td>0</td>\n",
       "      <td>No</td>\n",
       "      <td>No</td>\n",
       "      <td>34</td>\n",
       "      <td>Yes</td>\n",
       "      <td>No</td>\n",
       "      <td>DSL</td>\n",
       "      <td>Yes</td>\n",
       "      <td>...</td>\n",
       "      <td>Yes</td>\n",
       "      <td>No</td>\n",
       "      <td>No</td>\n",
       "      <td>No</td>\n",
       "      <td>One year</td>\n",
       "      <td>No</td>\n",
       "      <td>Mailed check</td>\n",
       "      <td>56.95</td>\n",
       "      <td>1889.5</td>\n",
       "      <td>No</td>\n",
       "    </tr>\n",
       "    <tr>\n",
       "      <th>2</th>\n",
       "      <td>3668-QPYBK</td>\n",
       "      <td>Male</td>\n",
       "      <td>0</td>\n",
       "      <td>No</td>\n",
       "      <td>No</td>\n",
       "      <td>2</td>\n",
       "      <td>Yes</td>\n",
       "      <td>No</td>\n",
       "      <td>DSL</td>\n",
       "      <td>Yes</td>\n",
       "      <td>...</td>\n",
       "      <td>No</td>\n",
       "      <td>No</td>\n",
       "      <td>No</td>\n",
       "      <td>No</td>\n",
       "      <td>Month-to-month</td>\n",
       "      <td>Yes</td>\n",
       "      <td>Mailed check</td>\n",
       "      <td>53.85</td>\n",
       "      <td>108.15</td>\n",
       "      <td>Yes</td>\n",
       "    </tr>\n",
       "    <tr>\n",
       "      <th>3</th>\n",
       "      <td>7795-CFOCW</td>\n",
       "      <td>Male</td>\n",
       "      <td>0</td>\n",
       "      <td>No</td>\n",
       "      <td>No</td>\n",
       "      <td>45</td>\n",
       "      <td>No</td>\n",
       "      <td>No phone service</td>\n",
       "      <td>DSL</td>\n",
       "      <td>Yes</td>\n",
       "      <td>...</td>\n",
       "      <td>Yes</td>\n",
       "      <td>Yes</td>\n",
       "      <td>No</td>\n",
       "      <td>No</td>\n",
       "      <td>One year</td>\n",
       "      <td>No</td>\n",
       "      <td>Bank transfer (automatic)</td>\n",
       "      <td>42.30</td>\n",
       "      <td>1840.75</td>\n",
       "      <td>No</td>\n",
       "    </tr>\n",
       "    <tr>\n",
       "      <th>4</th>\n",
       "      <td>9237-HQITU</td>\n",
       "      <td>Female</td>\n",
       "      <td>0</td>\n",
       "      <td>No</td>\n",
       "      <td>No</td>\n",
       "      <td>2</td>\n",
       "      <td>Yes</td>\n",
       "      <td>No</td>\n",
       "      <td>Fiber optic</td>\n",
       "      <td>No</td>\n",
       "      <td>...</td>\n",
       "      <td>No</td>\n",
       "      <td>No</td>\n",
       "      <td>No</td>\n",
       "      <td>No</td>\n",
       "      <td>Month-to-month</td>\n",
       "      <td>Yes</td>\n",
       "      <td>Electronic check</td>\n",
       "      <td>70.70</td>\n",
       "      <td>151.65</td>\n",
       "      <td>Yes</td>\n",
       "    </tr>\n",
       "  </tbody>\n",
       "</table>\n",
       "<p>5 rows × 21 columns</p>\n",
       "</div>"
      ],
      "text/plain": [
       "   customerID  gender  SeniorCitizen Partner Dependents  tenure PhoneService  \\\n",
       "0  7590-VHVEG  Female              0     Yes         No       1           No   \n",
       "1  5575-GNVDE    Male              0      No         No      34          Yes   \n",
       "2  3668-QPYBK    Male              0      No         No       2          Yes   \n",
       "3  7795-CFOCW    Male              0      No         No      45           No   \n",
       "4  9237-HQITU  Female              0      No         No       2          Yes   \n",
       "\n",
       "      MultipleLines InternetService OnlineSecurity  ... DeviceProtection  \\\n",
       "0  No phone service             DSL             No  ...               No   \n",
       "1                No             DSL            Yes  ...              Yes   \n",
       "2                No             DSL            Yes  ...               No   \n",
       "3  No phone service             DSL            Yes  ...              Yes   \n",
       "4                No     Fiber optic             No  ...               No   \n",
       "\n",
       "  TechSupport StreamingTV StreamingMovies        Contract PaperlessBilling  \\\n",
       "0          No          No              No  Month-to-month              Yes   \n",
       "1          No          No              No        One year               No   \n",
       "2          No          No              No  Month-to-month              Yes   \n",
       "3         Yes          No              No        One year               No   \n",
       "4          No          No              No  Month-to-month              Yes   \n",
       "\n",
       "               PaymentMethod MonthlyCharges  TotalCharges Churn  \n",
       "0           Electronic check          29.85         29.85    No  \n",
       "1               Mailed check          56.95        1889.5    No  \n",
       "2               Mailed check          53.85        108.15   Yes  \n",
       "3  Bank transfer (automatic)          42.30       1840.75    No  \n",
       "4           Electronic check          70.70        151.65   Yes  \n",
       "\n",
       "[5 rows x 21 columns]"
      ]
     },
     "execution_count": 3,
     "metadata": {},
     "output_type": "execute_result"
    }
   ],
   "source": [
    "df.head()"
   ]
  },
  {
   "cell_type": "code",
   "execution_count": 4,
   "metadata": {},
   "outputs": [
    {
     "data": {
      "text/plain": [
       "Index(['customerID', 'gender', 'SeniorCitizen', 'Partner', 'Dependents',\n",
       "       'tenure', 'PhoneService', 'MultipleLines', 'InternetService',\n",
       "       'OnlineSecurity', 'OnlineBackup', 'DeviceProtection', 'TechSupport',\n",
       "       'StreamingTV', 'StreamingMovies', 'Contract', 'PaperlessBilling',\n",
       "       'PaymentMethod', 'MonthlyCharges', 'TotalCharges', 'Churn'],\n",
       "      dtype='object')"
      ]
     },
     "execution_count": 4,
     "metadata": {},
     "output_type": "execute_result"
    }
   ],
   "source": [
    "df.columns"
   ]
  },
  {
   "cell_type": "code",
   "execution_count": 5,
   "metadata": {},
   "outputs": [
    {
     "data": {
      "text/plain": [
       "(7043, 21)"
      ]
     },
     "execution_count": 5,
     "metadata": {},
     "output_type": "execute_result"
    }
   ],
   "source": [
    "df.shape"
   ]
  },
  {
   "cell_type": "code",
   "execution_count": 6,
   "metadata": {},
   "outputs": [
    {
     "name": "stdout",
     "output_type": "stream",
     "text": [
      "<class 'pandas.core.frame.DataFrame'>\n",
      "RangeIndex: 7043 entries, 0 to 7042\n",
      "Data columns (total 21 columns):\n",
      " #   Column            Non-Null Count  Dtype  \n",
      "---  ------            --------------  -----  \n",
      " 0   customerID        7043 non-null   object \n",
      " 1   gender            7043 non-null   object \n",
      " 2   SeniorCitizen     7043 non-null   int64  \n",
      " 3   Partner           7043 non-null   object \n",
      " 4   Dependents        7043 non-null   object \n",
      " 5   tenure            7043 non-null   int64  \n",
      " 6   PhoneService      7043 non-null   object \n",
      " 7   MultipleLines     7043 non-null   object \n",
      " 8   InternetService   7043 non-null   object \n",
      " 9   OnlineSecurity    7043 non-null   object \n",
      " 10  OnlineBackup      7043 non-null   object \n",
      " 11  DeviceProtection  7043 non-null   object \n",
      " 12  TechSupport       7043 non-null   object \n",
      " 13  StreamingTV       7043 non-null   object \n",
      " 14  StreamingMovies   7043 non-null   object \n",
      " 15  Contract          7043 non-null   object \n",
      " 16  PaperlessBilling  7043 non-null   object \n",
      " 17  PaymentMethod     7043 non-null   object \n",
      " 18  MonthlyCharges    7043 non-null   float64\n",
      " 19  TotalCharges      7043 non-null   object \n",
      " 20  Churn             7043 non-null   object \n",
      "dtypes: float64(1), int64(2), object(18)\n",
      "memory usage: 660.3+ KB\n"
     ]
    }
   ],
   "source": [
    "df.info()"
   ]
  },
  {
   "cell_type": "code",
   "execution_count": 7,
   "metadata": {},
   "outputs": [
    {
     "data": {
      "text/html": [
       "<div>\n",
       "<style scoped>\n",
       "    .dataframe tbody tr th:only-of-type {\n",
       "        vertical-align: middle;\n",
       "    }\n",
       "\n",
       "    .dataframe tbody tr th {\n",
       "        vertical-align: top;\n",
       "    }\n",
       "\n",
       "    .dataframe thead th {\n",
       "        text-align: right;\n",
       "    }\n",
       "</style>\n",
       "<table border=\"1\" class=\"dataframe\">\n",
       "  <thead>\n",
       "    <tr style=\"text-align: right;\">\n",
       "      <th></th>\n",
       "      <th>yüzde</th>\n",
       "      <th>adet</th>\n",
       "    </tr>\n",
       "  </thead>\n",
       "  <tbody>\n",
       "    <tr>\n",
       "      <th>customerID</th>\n",
       "      <td>0.0</td>\n",
       "      <td>0</td>\n",
       "    </tr>\n",
       "    <tr>\n",
       "      <th>DeviceProtection</th>\n",
       "      <td>0.0</td>\n",
       "      <td>0</td>\n",
       "    </tr>\n",
       "    <tr>\n",
       "      <th>TotalCharges</th>\n",
       "      <td>0.0</td>\n",
       "      <td>0</td>\n",
       "    </tr>\n",
       "    <tr>\n",
       "      <th>MonthlyCharges</th>\n",
       "      <td>0.0</td>\n",
       "      <td>0</td>\n",
       "    </tr>\n",
       "    <tr>\n",
       "      <th>PaymentMethod</th>\n",
       "      <td>0.0</td>\n",
       "      <td>0</td>\n",
       "    </tr>\n",
       "    <tr>\n",
       "      <th>PaperlessBilling</th>\n",
       "      <td>0.0</td>\n",
       "      <td>0</td>\n",
       "    </tr>\n",
       "    <tr>\n",
       "      <th>Contract</th>\n",
       "      <td>0.0</td>\n",
       "      <td>0</td>\n",
       "    </tr>\n",
       "    <tr>\n",
       "      <th>StreamingMovies</th>\n",
       "      <td>0.0</td>\n",
       "      <td>0</td>\n",
       "    </tr>\n",
       "    <tr>\n",
       "      <th>StreamingTV</th>\n",
       "      <td>0.0</td>\n",
       "      <td>0</td>\n",
       "    </tr>\n",
       "    <tr>\n",
       "      <th>TechSupport</th>\n",
       "      <td>0.0</td>\n",
       "      <td>0</td>\n",
       "    </tr>\n",
       "    <tr>\n",
       "      <th>OnlineBackup</th>\n",
       "      <td>0.0</td>\n",
       "      <td>0</td>\n",
       "    </tr>\n",
       "    <tr>\n",
       "      <th>gender</th>\n",
       "      <td>0.0</td>\n",
       "      <td>0</td>\n",
       "    </tr>\n",
       "    <tr>\n",
       "      <th>OnlineSecurity</th>\n",
       "      <td>0.0</td>\n",
       "      <td>0</td>\n",
       "    </tr>\n",
       "    <tr>\n",
       "      <th>InternetService</th>\n",
       "      <td>0.0</td>\n",
       "      <td>0</td>\n",
       "    </tr>\n",
       "    <tr>\n",
       "      <th>MultipleLines</th>\n",
       "      <td>0.0</td>\n",
       "      <td>0</td>\n",
       "    </tr>\n",
       "    <tr>\n",
       "      <th>PhoneService</th>\n",
       "      <td>0.0</td>\n",
       "      <td>0</td>\n",
       "    </tr>\n",
       "    <tr>\n",
       "      <th>tenure</th>\n",
       "      <td>0.0</td>\n",
       "      <td>0</td>\n",
       "    </tr>\n",
       "    <tr>\n",
       "      <th>Dependents</th>\n",
       "      <td>0.0</td>\n",
       "      <td>0</td>\n",
       "    </tr>\n",
       "    <tr>\n",
       "      <th>Partner</th>\n",
       "      <td>0.0</td>\n",
       "      <td>0</td>\n",
       "    </tr>\n",
       "    <tr>\n",
       "      <th>SeniorCitizen</th>\n",
       "      <td>0.0</td>\n",
       "      <td>0</td>\n",
       "    </tr>\n",
       "    <tr>\n",
       "      <th>Churn</th>\n",
       "      <td>0.0</td>\n",
       "      <td>0</td>\n",
       "    </tr>\n",
       "  </tbody>\n",
       "</table>\n",
       "</div>"
      ],
      "text/plain": [
       "                  yüzde  adet\n",
       "customerID          0.0     0\n",
       "DeviceProtection    0.0     0\n",
       "TotalCharges        0.0     0\n",
       "MonthlyCharges      0.0     0\n",
       "PaymentMethod       0.0     0\n",
       "PaperlessBilling    0.0     0\n",
       "Contract            0.0     0\n",
       "StreamingMovies     0.0     0\n",
       "StreamingTV         0.0     0\n",
       "TechSupport         0.0     0\n",
       "OnlineBackup        0.0     0\n",
       "gender              0.0     0\n",
       "OnlineSecurity      0.0     0\n",
       "InternetService     0.0     0\n",
       "MultipleLines       0.0     0\n",
       "PhoneService        0.0     0\n",
       "tenure              0.0     0\n",
       "Dependents          0.0     0\n",
       "Partner             0.0     0\n",
       "SeniorCitizen       0.0     0\n",
       "Churn               0.0     0"
      ]
     },
     "execution_count": 7,
     "metadata": {},
     "output_type": "execute_result"
    }
   ],
   "source": [
    "def null_degerler(play):\n",
    "    null_df=pd.DataFrame()\n",
    "    null_df['yüzde']=df.isnull().sum()*100/df.shape[0]\n",
    "    null_df['adet']=df.isnull().sum()\n",
    "    return null_df.sort_values('yüzde',ascending=False)\n",
    "null_degerler(df)"
   ]
  },
  {
   "cell_type": "code",
   "execution_count": 8,
   "metadata": {},
   "outputs": [
    {
     "name": "stdout",
     "output_type": "stream",
     "text": [
      "customerID sütunundaki benzersiz değişkenler:\n",
      " ['7590-VHVEG' '5575-GNVDE' '3668-QPYBK' ... '4801-JZAZL' '8361-LTMKD'\n",
      " '3186-AJIEK'] \n",
      "\n",
      " \n",
      "gender sütunundaki benzersiz değişkenler:\n",
      " ['Female' 'Male'] \n",
      "\n",
      " \n",
      "SeniorCitizen sütunundaki benzersiz değişkenler:\n",
      " [0 1] \n",
      "\n",
      " \n",
      "Partner sütunundaki benzersiz değişkenler:\n",
      " ['Yes' 'No'] \n",
      "\n",
      " \n",
      "Dependents sütunundaki benzersiz değişkenler:\n",
      " ['No' 'Yes'] \n",
      "\n",
      " \n",
      "tenure sütunundaki benzersiz değişkenler:\n",
      " [ 1 34  2 45  8 22 10 28 62 13 16 58 49 25 69 52 71 21 12 30 47 72 17 27\n",
      "  5 46 11 70 63 43 15 60 18 66  9  3 31 50 64 56  7 42 35 48 29 65 38 68\n",
      " 32 55 37 36 41  6  4 33 67 23 57 61 14 20 53 40 59 24 44 19 54 51 26  0\n",
      " 39] \n",
      "\n",
      " \n",
      "PhoneService sütunundaki benzersiz değişkenler:\n",
      " ['No' 'Yes'] \n",
      "\n",
      " \n",
      "MultipleLines sütunundaki benzersiz değişkenler:\n",
      " ['No phone service' 'No' 'Yes'] \n",
      "\n",
      " \n",
      "InternetService sütunundaki benzersiz değişkenler:\n",
      " ['DSL' 'Fiber optic' 'No'] \n",
      "\n",
      " \n",
      "OnlineSecurity sütunundaki benzersiz değişkenler:\n",
      " ['No' 'Yes' 'No internet service'] \n",
      "\n",
      " \n",
      "OnlineBackup sütunundaki benzersiz değişkenler:\n",
      " ['Yes' 'No' 'No internet service'] \n",
      "\n",
      " \n",
      "DeviceProtection sütunundaki benzersiz değişkenler:\n",
      " ['No' 'Yes' 'No internet service'] \n",
      "\n",
      " \n",
      "TechSupport sütunundaki benzersiz değişkenler:\n",
      " ['No' 'Yes' 'No internet service'] \n",
      "\n",
      " \n",
      "StreamingTV sütunundaki benzersiz değişkenler:\n",
      " ['No' 'Yes' 'No internet service'] \n",
      "\n",
      " \n",
      "StreamingMovies sütunundaki benzersiz değişkenler:\n",
      " ['No' 'Yes' 'No internet service'] \n",
      "\n",
      " \n",
      "Contract sütunundaki benzersiz değişkenler:\n",
      " ['Month-to-month' 'One year' 'Two year'] \n",
      "\n",
      " \n",
      "PaperlessBilling sütunundaki benzersiz değişkenler:\n",
      " ['Yes' 'No'] \n",
      "\n",
      " \n",
      "PaymentMethod sütunundaki benzersiz değişkenler:\n",
      " ['Electronic check' 'Mailed check' 'Bank transfer (automatic)'\n",
      " 'Credit card (automatic)'] \n",
      "\n",
      " \n",
      "MonthlyCharges sütunundaki benzersiz değişkenler:\n",
      " [29.85 56.95 53.85 ... 63.1  44.2  78.7 ] \n",
      "\n",
      " \n",
      "TotalCharges sütunundaki benzersiz değişkenler:\n",
      " ['29.85' '1889.5' '108.15' ... '346.45' '306.6' '6844.5'] \n",
      "\n",
      " \n",
      "Churn sütunundaki benzersiz değişkenler:\n",
      " ['No' 'Yes'] \n",
      "\n",
      " \n"
     ]
    }
   ],
   "source": [
    "for sutun in df.columns:\n",
    "    print(\"{} sütunundaki benzersiz değişkenler:\\n {} \\n\\n \".format(sutun,df[sutun].unique()))"
   ]
  },
  {
   "cell_type": "code",
   "execution_count": 9,
   "metadata": {
    "scrolled": true
   },
   "outputs": [
    {
     "data": {
      "text/html": [
       "<div>\n",
       "<style scoped>\n",
       "    .dataframe tbody tr th:only-of-type {\n",
       "        vertical-align: middle;\n",
       "    }\n",
       "\n",
       "    .dataframe tbody tr th {\n",
       "        vertical-align: top;\n",
       "    }\n",
       "\n",
       "    .dataframe thead th {\n",
       "        text-align: right;\n",
       "    }\n",
       "</style>\n",
       "<table border=\"1\" class=\"dataframe\">\n",
       "  <thead>\n",
       "    <tr style=\"text-align: right;\">\n",
       "      <th></th>\n",
       "      <th>SeniorCitizen</th>\n",
       "      <th>tenure</th>\n",
       "      <th>MonthlyCharges</th>\n",
       "    </tr>\n",
       "  </thead>\n",
       "  <tbody>\n",
       "    <tr>\n",
       "      <th>count</th>\n",
       "      <td>7043.000000</td>\n",
       "      <td>7043.000000</td>\n",
       "      <td>7043.000000</td>\n",
       "    </tr>\n",
       "    <tr>\n",
       "      <th>mean</th>\n",
       "      <td>0.162147</td>\n",
       "      <td>32.371149</td>\n",
       "      <td>64.761692</td>\n",
       "    </tr>\n",
       "    <tr>\n",
       "      <th>std</th>\n",
       "      <td>0.368612</td>\n",
       "      <td>24.559481</td>\n",
       "      <td>30.090047</td>\n",
       "    </tr>\n",
       "    <tr>\n",
       "      <th>min</th>\n",
       "      <td>0.000000</td>\n",
       "      <td>0.000000</td>\n",
       "      <td>18.250000</td>\n",
       "    </tr>\n",
       "    <tr>\n",
       "      <th>25%</th>\n",
       "      <td>0.000000</td>\n",
       "      <td>9.000000</td>\n",
       "      <td>35.500000</td>\n",
       "    </tr>\n",
       "    <tr>\n",
       "      <th>50%</th>\n",
       "      <td>0.000000</td>\n",
       "      <td>29.000000</td>\n",
       "      <td>70.350000</td>\n",
       "    </tr>\n",
       "    <tr>\n",
       "      <th>75%</th>\n",
       "      <td>0.000000</td>\n",
       "      <td>55.000000</td>\n",
       "      <td>89.850000</td>\n",
       "    </tr>\n",
       "    <tr>\n",
       "      <th>max</th>\n",
       "      <td>1.000000</td>\n",
       "      <td>72.000000</td>\n",
       "      <td>118.750000</td>\n",
       "    </tr>\n",
       "  </tbody>\n",
       "</table>\n",
       "</div>"
      ],
      "text/plain": [
       "       SeniorCitizen       tenure  MonthlyCharges\n",
       "count    7043.000000  7043.000000     7043.000000\n",
       "mean        0.162147    32.371149       64.761692\n",
       "std         0.368612    24.559481       30.090047\n",
       "min         0.000000     0.000000       18.250000\n",
       "25%         0.000000     9.000000       35.500000\n",
       "50%         0.000000    29.000000       70.350000\n",
       "75%         0.000000    55.000000       89.850000\n",
       "max         1.000000    72.000000      118.750000"
      ]
     },
     "execution_count": 9,
     "metadata": {},
     "output_type": "execute_result"
    }
   ],
   "source": [
    "df.describe()"
   ]
  },
  {
   "cell_type": "markdown",
   "metadata": {},
   "source": [
    "TotalCharges sayısal değerlere çevirdik ve eksikleri ortalama ile doldurduk"
   ]
  },
  {
   "cell_type": "code",
   "execution_count": 10,
   "metadata": {},
   "outputs": [],
   "source": [
    "df = df.drop(columns = ['customerID'])\n",
    "df[\"TotalCharges\"] = pd.to_numeric(df[\"TotalCharges\"], errors = 'coerce')"
   ]
  },
  {
   "cell_type": "code",
   "execution_count": 11,
   "metadata": {},
   "outputs": [],
   "source": [
    "df[\"TotalCharges\"].fillna(df[\"TotalCharges\"].mean(), inplace=True)"
   ]
  },
  {
   "cell_type": "code",
   "execution_count": 12,
   "metadata": {},
   "outputs": [
    {
     "data": {
      "text/plain": [
       "<matplotlib.axes._subplots.AxesSubplot at 0x1bd26808>"
      ]
     },
     "execution_count": 12,
     "metadata": {},
     "output_type": "execute_result"
    },
    {
     "data": {
      "image/png": "[encoded data removed]",
      "text/plain": [
       "<Figure size 432x288 with 1 Axes>"
      ]
     },
     "metadata": {
      "needs_background": "light"
     },
     "output_type": "display_data"
    }
   ],
   "source": [
    "sns.countplot(x = \"Churn\", data = df)"
   ]
  },
  {
   "cell_type": "code",
   "execution_count": 13,
   "metadata": {},
   "outputs": [],
   "source": [
    "gender_replace = {\"Female\" : 0, \"Male\": 1}\n",
    "yes_no_replace = {\"Yes\" : 1, \"No\":0, \"No phone service\":0 , \"No internet service\":0 }\n",
    "\n",
    "df[\"gender\"] = df[\"gender\"].map(gender_replace)\n",
    "\n",
    "def binary_encode(features):\n",
    "    for feature in features:\n",
    "        df[feature] = df[feature].map(yes_no_replace)\n",
    "binary_encode_columns = [\"Partner\", \"Dependents\", \"PhoneService\", \"PaperlessBilling\", \"Churn\",\"MultipleLines\" ,\"OnlineSecurity\", \"OnlineBackup\", \"DeviceProtection\",\"TechSupport\",\"StreamingTV\",\"StreamingMovies\"]\n",
    "binary_encode(binary_encode_columns)"
   ]
  },
  {
   "cell_type": "code",
   "execution_count": 14,
   "metadata": {},
   "outputs": [
    {
     "data": {
      "text/html": [
       "<div>\n",
       "<style scoped>\n",
       "    .dataframe tbody tr th:only-of-type {\n",
       "        vertical-align: middle;\n",
       "    }\n",
       "\n",
       "    .dataframe tbody tr th {\n",
       "        vertical-align: top;\n",
       "    }\n",
       "\n",
       "    .dataframe thead th {\n",
       "        text-align: right;\n",
       "    }\n",
       "</style>\n",
       "<table border=\"1\" class=\"dataframe\">\n",
       "  <thead>\n",
       "    <tr style=\"text-align: right;\">\n",
       "      <th></th>\n",
       "      <th>gender</th>\n",
       "      <th>SeniorCitizen</th>\n",
       "      <th>Partner</th>\n",
       "      <th>Dependents</th>\n",
       "      <th>tenure</th>\n",
       "      <th>PhoneService</th>\n",
       "      <th>MultipleLines</th>\n",
       "      <th>InternetService</th>\n",
       "      <th>OnlineSecurity</th>\n",
       "      <th>OnlineBackup</th>\n",
       "      <th>DeviceProtection</th>\n",
       "      <th>TechSupport</th>\n",
       "      <th>StreamingTV</th>\n",
       "      <th>StreamingMovies</th>\n",
       "      <th>Contract</th>\n",
       "      <th>PaperlessBilling</th>\n",
       "      <th>PaymentMethod</th>\n",
       "      <th>MonthlyCharges</th>\n",
       "      <th>TotalCharges</th>\n",
       "      <th>Churn</th>\n",
       "    </tr>\n",
       "  </thead>\n",
       "  <tbody>\n",
       "    <tr>\n",
       "      <th>0</th>\n",
       "      <td>0</td>\n",
       "      <td>0</td>\n",
       "      <td>1</td>\n",
       "      <td>0</td>\n",
       "      <td>1</td>\n",
       "      <td>0</td>\n",
       "      <td>0</td>\n",
       "      <td>DSL</td>\n",
       "      <td>0</td>\n",
       "      <td>1</td>\n",
       "      <td>0</td>\n",
       "      <td>0</td>\n",
       "      <td>0</td>\n",
       "      <td>0</td>\n",
       "      <td>Month-to-month</td>\n",
       "      <td>1</td>\n",
       "      <td>Electronic check</td>\n",
       "      <td>29.85</td>\n",
       "      <td>29.85</td>\n",
       "      <td>0</td>\n",
       "    </tr>\n",
       "    <tr>\n",
       "      <th>1</th>\n",
       "      <td>1</td>\n",
       "      <td>0</td>\n",
       "      <td>0</td>\n",
       "      <td>0</td>\n",
       "      <td>34</td>\n",
       "      <td>1</td>\n",
       "      <td>0</td>\n",
       "      <td>DSL</td>\n",
       "      <td>1</td>\n",
       "      <td>0</td>\n",
       "      <td>1</td>\n",
       "      <td>0</td>\n",
       "      <td>0</td>\n",
       "      <td>0</td>\n",
       "      <td>One year</td>\n",
       "      <td>0</td>\n",
       "      <td>Mailed check</td>\n",
       "      <td>56.95</td>\n",
       "      <td>1889.50</td>\n",
       "      <td>0</td>\n",
       "    </tr>\n",
       "    <tr>\n",
       "      <th>2</th>\n",
       "      <td>1</td>\n",
       "      <td>0</td>\n",
       "      <td>0</td>\n",
       "      <td>0</td>\n",
       "      <td>2</td>\n",
       "      <td>1</td>\n",
       "      <td>0</td>\n",
       "      <td>DSL</td>\n",
       "      <td>1</td>\n",
       "      <td>1</td>\n",
       "      <td>0</td>\n",
       "      <td>0</td>\n",
       "      <td>0</td>\n",
       "      <td>0</td>\n",
       "      <td>Month-to-month</td>\n",
       "      <td>1</td>\n",
       "      <td>Mailed check</td>\n",
       "      <td>53.85</td>\n",
       "      <td>108.15</td>\n",
       "      <td>1</td>\n",
       "    </tr>\n",
       "    <tr>\n",
       "      <th>3</th>\n",
       "      <td>1</td>\n",
       "      <td>0</td>\n",
       "      <td>0</td>\n",
       "      <td>0</td>\n",
       "      <td>45</td>\n",
       "      <td>0</td>\n",
       "      <td>0</td>\n",
       "      <td>DSL</td>\n",
       "      <td>1</td>\n",
       "      <td>0</td>\n",
       "      <td>1</td>\n",
       "      <td>1</td>\n",
       "      <td>0</td>\n",
       "      <td>0</td>\n",
       "      <td>One year</td>\n",
       "      <td>0</td>\n",
       "      <td>Bank transfer (automatic)</td>\n",
       "      <td>42.30</td>\n",
       "      <td>1840.75</td>\n",
       "      <td>0</td>\n",
       "    </tr>\n",
       "    <tr>\n",
       "      <th>4</th>\n",
       "      <td>0</td>\n",
       "      <td>0</td>\n",
       "      <td>0</td>\n",
       "      <td>0</td>\n",
       "      <td>2</td>\n",
       "      <td>1</td>\n",
       "      <td>0</td>\n",
       "      <td>Fiber optic</td>\n",
       "      <td>0</td>\n",
       "      <td>0</td>\n",
       "      <td>0</td>\n",
       "      <td>0</td>\n",
       "      <td>0</td>\n",
       "      <td>0</td>\n",
       "      <td>Month-to-month</td>\n",
       "      <td>1</td>\n",
       "      <td>Electronic check</td>\n",
       "      <td>70.70</td>\n",
       "      <td>151.65</td>\n",
       "      <td>1</td>\n",
       "    </tr>\n",
       "  </tbody>\n",
       "</table>\n",
       "</div>"
      ],
      "text/plain": [
       "   gender  SeniorCitizen  Partner  Dependents  tenure  PhoneService  \\\n",
       "0       0              0        1           0       1             0   \n",
       "1       1              0        0           0      34             1   \n",
       "2       1              0        0           0       2             1   \n",
       "3       1              0        0           0      45             0   \n",
       "4       0              0        0           0       2             1   \n",
       "\n",
       "   MultipleLines InternetService  OnlineSecurity  OnlineBackup  \\\n",
       "0              0             DSL               0             1   \n",
       "1              0             DSL               1             0   \n",
       "2              0             DSL               1             1   \n",
       "3              0             DSL               1             0   \n",
       "4              0     Fiber optic               0             0   \n",
       "\n",
       "   DeviceProtection  TechSupport  StreamingTV  StreamingMovies  \\\n",
       "0                 0            0            0                0   \n",
       "1                 1            0            0                0   \n",
       "2                 0            0            0                0   \n",
       "3                 1            1            0                0   \n",
       "4                 0            0            0                0   \n",
       "\n",
       "         Contract  PaperlessBilling              PaymentMethod  \\\n",
       "0  Month-to-month                 1           Electronic check   \n",
       "1        One year                 0               Mailed check   \n",
       "2  Month-to-month                 1               Mailed check   \n",
       "3        One year                 0  Bank transfer (automatic)   \n",
       "4  Month-to-month                 1           Electronic check   \n",
       "\n",
       "   MonthlyCharges  TotalCharges  Churn  \n",
       "0           29.85         29.85      0  \n",
       "1           56.95       1889.50      0  \n",
       "2           53.85        108.15      1  \n",
       "3           42.30       1840.75      0  \n",
       "4           70.70        151.65      1  "
      ]
     },
     "execution_count": 14,
     "metadata": {},
     "output_type": "execute_result"
    }
   ],
   "source": [
    "df.head(5)"
   ]
  },
  {
   "cell_type": "code",
   "execution_count": 15,
   "metadata": {},
   "outputs": [
    {
     "data": {
      "image/png": "[encoded data removed]",
      "text/plain": [
       "<Figure size 720x360 with 3 Axes>"
      ]
     },
     "metadata": {
      "needs_background": "light"
     },
     "output_type": "display_data"
    }
   ],
   "source": [
    "plt.figure(figsize=(10,5))\n",
    "plt.subplot(1,3,1)\n",
    "plt.hist(df['MonthlyCharges'])\n",
    "plt.title(\"MonthlyCharges\")\n",
    "    \n",
    "plt.subplot(1,3,2)\n",
    "plt.hist(winsorize(df[\"MonthlyCharges\"], (0,0.05)))\n",
    "plt.title(\"MonthlyCharges-winsorize\")\n",
    "\n",
    "plt.subplot(1,3,3)\n",
    "plt.hist(np.log(df['MonthlyCharges']))\n",
    "plt.title(\"MonthlyCharges-log\")\n",
    "plt.show()"
   ]
  },
  {
   "cell_type": "code",
   "execution_count": 17,
   "metadata": {},
   "outputs": [
    {
     "data": {
      "image/png": "[encoded data removed]",
      "text/plain": [
       "<Figure size 720x360 with 3 Axes>"
      ]
     },
     "metadata": {
      "needs_background": "light"
     },
     "output_type": "display_data"
    }
   ],
   "source": [
    "plt.figure(figsize=(10,5))\n",
    "plt.subplot(1,3,1)\n",
    "plt.hist(df['TotalCharges'])\n",
    "plt.title(\"TotalCharges\")\n",
    "    \n",
    "plt.subplot(1,3,2)\n",
    "plt.hist(winsorize(df[\"TotalCharges\"], (0,0.05)))\n",
    "plt.title(\"TotalCharges-winsorize\")\n",
    "\n",
    "plt.subplot(1,3,3)\n",
    "plt.hist(np.log(df['TotalCharges']))\n",
    "plt.title(\"TotalCharges-log\")\n",
    "plt.show()"
   ]
  },
  {
   "cell_type": "code",
   "execution_count": 18,
   "metadata": {
    "scrolled": true
   },
   "outputs": [
    {
     "data": {
      "text/plain": [
       "<matplotlib.axes._subplots.AxesSubplot at 0x1ced2cd0>"
      ]
     },
     "execution_count": 18,
     "metadata": {},
     "output_type": "execute_result"
    },
    {
     "data": {
      "image/png": "[encoded data removed]",
      "text/plain": [
       "<Figure size 576x288 with 1 Axes>"
      ]
     },
     "metadata": {
      "needs_background": "light"
     },
     "output_type": "display_data"
    }
   ],
   "source": [
    "fig = plt.gcf()\n",
    "fig.set_size_inches( 8, 4)\n",
    "sns.countplot(df['Contract'],hue=df['Churn'])"
   ]
  },
  {
   "cell_type": "code",
   "execution_count": 19,
   "metadata": {},
   "outputs": [
    {
     "data": {
      "text/html": [
       "<div>\n",
       "<style scoped>\n",
       "    .dataframe tbody tr th:only-of-type {\n",
       "        vertical-align: middle;\n",
       "    }\n",
       "\n",
       "    .dataframe tbody tr th {\n",
       "        vertical-align: top;\n",
       "    }\n",
       "\n",
       "    .dataframe thead th {\n",
       "        text-align: right;\n",
       "    }\n",
       "</style>\n",
       "<table border=\"1\" class=\"dataframe\">\n",
       "  <thead>\n",
       "    <tr style=\"text-align: right;\">\n",
       "      <th></th>\n",
       "      <th>Churn</th>\n",
       "    </tr>\n",
       "    <tr>\n",
       "      <th>Contract</th>\n",
       "      <th></th>\n",
       "    </tr>\n",
       "  </thead>\n",
       "  <tbody>\n",
       "    <tr>\n",
       "      <th>Month-to-month</th>\n",
       "      <td>0.427097</td>\n",
       "    </tr>\n",
       "    <tr>\n",
       "      <th>One year</th>\n",
       "      <td>0.112695</td>\n",
       "    </tr>\n",
       "    <tr>\n",
       "      <th>Two year</th>\n",
       "      <td>0.028319</td>\n",
       "    </tr>\n",
       "  </tbody>\n",
       "</table>\n",
       "</div>"
      ],
      "text/plain": [
       "                   Churn\n",
       "Contract                \n",
       "Month-to-month  0.427097\n",
       "One year        0.112695\n",
       "Two year        0.028319"
      ]
     },
     "execution_count": 19,
     "metadata": {},
     "output_type": "execute_result"
    }
   ],
   "source": [
    "df.groupby(\"Contract\").mean()[[\"Churn\"]]"
   ]
  },
  {
   "cell_type": "code",
   "execution_count": 20,
   "metadata": {},
   "outputs": [
    {
     "data": {
      "text/plain": [
       "Ttest_indResult(statistic=array([32.3971795]), pvalue=array([4.2567532e-211]))"
      ]
     },
     "execution_count": 20,
     "metadata": {},
     "output_type": "execute_result"
    }
   ],
   "source": [
    "ttest_ind(df[df.Contract == \"Month-to-month\"][[\"Churn\"]],\n",
    "          df[df.Contract == \"Two year\"][[\"Churn\"]])"
   ]
  },
  {
   "cell_type": "code",
   "execution_count": 21,
   "metadata": {},
   "outputs": [
    {
     "data": {
      "text/plain": [
       "<matplotlib.axes._subplots.AxesSubplot at 0x1cfcac88>"
      ]
     },
     "execution_count": 21,
     "metadata": {},
     "output_type": "execute_result"
    },
    {
     "data": {
      "image/png": "[encoded data removed]",
      "text/plain": [
       "<Figure size 576x288 with 1 Axes>"
      ]
     },
     "metadata": {
      "needs_background": "light"
     },
     "output_type": "display_data"
    }
   ],
   "source": [
    "fig = plt.gcf()\n",
    "fig.set_size_inches( 8, 4)\n",
    "sns.countplot(df['PaymentMethod'],hue=df['Churn'])"
   ]
  },
  {
   "cell_type": "code",
   "execution_count": 22,
   "metadata": {},
   "outputs": [
    {
     "data": {
      "text/html": [
       "<div>\n",
       "<style scoped>\n",
       "    .dataframe tbody tr th:only-of-type {\n",
       "        vertical-align: middle;\n",
       "    }\n",
       "\n",
       "    .dataframe tbody tr th {\n",
       "        vertical-align: top;\n",
       "    }\n",
       "\n",
       "    .dataframe thead th {\n",
       "        text-align: right;\n",
       "    }\n",
       "</style>\n",
       "<table border=\"1\" class=\"dataframe\">\n",
       "  <thead>\n",
       "    <tr style=\"text-align: right;\">\n",
       "      <th></th>\n",
       "      <th>Churn</th>\n",
       "    </tr>\n",
       "    <tr>\n",
       "      <th>PaymentMethod</th>\n",
       "      <th></th>\n",
       "    </tr>\n",
       "  </thead>\n",
       "  <tbody>\n",
       "    <tr>\n",
       "      <th>Bank transfer (automatic)</th>\n",
       "      <td>0.167098</td>\n",
       "    </tr>\n",
       "    <tr>\n",
       "      <th>Credit card (automatic)</th>\n",
       "      <td>0.152431</td>\n",
       "    </tr>\n",
       "    <tr>\n",
       "      <th>Electronic check</th>\n",
       "      <td>0.452854</td>\n",
       "    </tr>\n",
       "    <tr>\n",
       "      <th>Mailed check</th>\n",
       "      <td>0.191067</td>\n",
       "    </tr>\n",
       "  </tbody>\n",
       "</table>\n",
       "</div>"
      ],
      "text/plain": [
       "                              Churn\n",
       "PaymentMethod                      \n",
       "Bank transfer (automatic)  0.167098\n",
       "Credit card (automatic)    0.152431\n",
       "Electronic check           0.452854\n",
       "Mailed check               0.191067"
      ]
     },
     "execution_count": 22,
     "metadata": {},
     "output_type": "execute_result"
    }
   ],
   "source": [
    "df.groupby(\"PaymentMethod\").mean()[[\"Churn\"]]"
   ]
  },
  {
   "cell_type": "code",
   "execution_count": 23,
   "metadata": {},
   "outputs": [
    {
     "data": {
      "text/plain": [
       "Ttest_indResult(statistic=array([17.68301468]), pvalue=array([2.03333653e-67]))"
      ]
     },
     "execution_count": 23,
     "metadata": {},
     "output_type": "execute_result"
    }
   ],
   "source": [
    "ttest_ind(df[df.PaymentMethod == \"Electronic check\"][[\"Churn\"]],\n",
    "          df[df.PaymentMethod == \"Mailed check\"][[\"Churn\"]])"
   ]
  },
  {
   "cell_type": "code",
   "execution_count": 24,
   "metadata": {},
   "outputs": [
    {
     "data": {
      "text/plain": [
       "<matplotlib.axes._subplots.AxesSubplot at 0x55fe9a0>"
      ]
     },
     "execution_count": 24,
     "metadata": {},
     "output_type": "execute_result"
    },
    {
     "data": {
      "image/png": "[encoded data removed]",
      "text/plain": [
       "<Figure size 576x288 with 1 Axes>"
      ]
     },
     "metadata": {
      "needs_background": "light"
     },
     "output_type": "display_data"
    }
   ],
   "source": [
    "fig = plt.gcf()\n",
    "plt.title('Churn ratio with respect to internet service type')\n",
    "fig.set_size_inches( 8, 4)\n",
    "sns.countplot(df['InternetService'],hue=df['Churn'])"
   ]
  },
  {
   "cell_type": "code",
   "execution_count": 25,
   "metadata": {},
   "outputs": [
    {
     "data": {
      "text/plain": [
       "Ttest_indResult(statistic=array([-18.71090975]), pvalue=array([8.60253689e-76]))"
      ]
     },
     "execution_count": 25,
     "metadata": {},
     "output_type": "execute_result"
    }
   ],
   "source": [
    "ttest_ind(df[df.InternetService  == \"DSL\"][[\"Churn\"]],\n",
    "          df[df.InternetService  == \"Fiber optic\"][[\"Churn\"]])"
   ]
  },
  {
   "cell_type": "code",
   "execution_count": 26,
   "metadata": {},
   "outputs": [
    {
     "data": {
      "text/plain": [
       "<matplotlib.axes._subplots.AxesSubplot at 0x1d0fa7a8>"
      ]
     },
     "execution_count": 26,
     "metadata": {},
     "output_type": "execute_result"
    },
    {
     "data": {
      "image/png": "[encoded data removed]",
      "text/plain": [
       "<Figure size 576x288 with 1 Axes>"
      ]
     },
     "metadata": {
      "needs_background": "light"
     },
     "output_type": "display_data"
    }
   ],
   "source": [
    "fig = plt.gcf()\n",
    "fig.set_size_inches( 8, 4)\n",
    "sns.countplot(df['SeniorCitizen'],hue=df['Churn'])"
   ]
  },
  {
   "cell_type": "code",
   "execution_count": 27,
   "metadata": {},
   "outputs": [
    {
     "data": {
      "text/plain": [
       "<matplotlib.axes._subplots.AxesSubplot at 0x1cdeb4d8>"
      ]
     },
     "execution_count": 27,
     "metadata": {},
     "output_type": "execute_result"
    },
    {
     "data": {
      "image/png": "[encoded data removed]",
      "text/plain": [
       "<Figure size 576x288 with 1 Axes>"
      ]
     },
     "metadata": {
      "needs_background": "light"
     },
     "output_type": "display_data"
    }
   ],
   "source": [
    "fig = plt.gcf()\n",
    "fig.set_size_inches( 8, 4)\n",
    "sns.countplot(df['PaperlessBilling'],hue=df['Churn'])"
   ]
  },
  {
   "cell_type": "code",
   "execution_count": 28,
   "metadata": {
    "scrolled": true
   },
   "outputs": [
    {
     "data": {
      "text/plain": [
       "<matplotlib.axes._subplots.AxesSubplot at 0x1d13a838>"
      ]
     },
     "execution_count": 28,
     "metadata": {},
     "output_type": "execute_result"
    },
    {
     "data": {
      "image/png": "[encoded data removed]",
      "text/plain": [
       "<Figure size 1080x864 with 2 Axes>"
      ]
     },
     "metadata": {
      "needs_background": "light"
     },
     "output_type": "display_data"
    }
   ],
   "source": [
    "plt.figure(figsize=(15,12))\n",
    "Corr=df[df.columns].corr()\n",
    "sns.heatmap(Corr,annot=True)"
   ]
  },
  {
   "cell_type": "code",
   "execution_count": 29,
   "metadata": {},
   "outputs": [
    {
     "data": {
      "text/html": [
       "<div>\n",
       "<style scoped>\n",
       "    .dataframe tbody tr th:only-of-type {\n",
       "        vertical-align: middle;\n",
       "    }\n",
       "\n",
       "    .dataframe tbody tr th {\n",
       "        vertical-align: top;\n",
       "    }\n",
       "\n",
       "    .dataframe thead th {\n",
       "        text-align: right;\n",
       "    }\n",
       "</style>\n",
       "<table border=\"1\" class=\"dataframe\">\n",
       "  <thead>\n",
       "    <tr style=\"text-align: right;\">\n",
       "      <th></th>\n",
       "      <th>gender</th>\n",
       "      <th>SeniorCitizen</th>\n",
       "      <th>Partner</th>\n",
       "      <th>Dependents</th>\n",
       "      <th>tenure</th>\n",
       "      <th>PhoneService</th>\n",
       "      <th>MultipleLines</th>\n",
       "      <th>InternetService</th>\n",
       "      <th>OnlineSecurity</th>\n",
       "      <th>OnlineBackup</th>\n",
       "      <th>DeviceProtection</th>\n",
       "      <th>TechSupport</th>\n",
       "      <th>StreamingTV</th>\n",
       "      <th>StreamingMovies</th>\n",
       "      <th>Contract</th>\n",
       "      <th>PaperlessBilling</th>\n",
       "      <th>PaymentMethod</th>\n",
       "      <th>MonthlyCharges</th>\n",
       "      <th>TotalCharges</th>\n",
       "      <th>Churn</th>\n",
       "    </tr>\n",
       "  </thead>\n",
       "  <tbody>\n",
       "    <tr>\n",
       "      <th>0</th>\n",
       "      <td>0</td>\n",
       "      <td>0</td>\n",
       "      <td>1</td>\n",
       "      <td>0</td>\n",
       "      <td>1</td>\n",
       "      <td>0</td>\n",
       "      <td>0</td>\n",
       "      <td>DSL</td>\n",
       "      <td>0</td>\n",
       "      <td>1</td>\n",
       "      <td>0</td>\n",
       "      <td>0</td>\n",
       "      <td>0</td>\n",
       "      <td>0</td>\n",
       "      <td>Month-to-month</td>\n",
       "      <td>1</td>\n",
       "      <td>Electronic check</td>\n",
       "      <td>29.85</td>\n",
       "      <td>29.85</td>\n",
       "      <td>0</td>\n",
       "    </tr>\n",
       "    <tr>\n",
       "      <th>1</th>\n",
       "      <td>1</td>\n",
       "      <td>0</td>\n",
       "      <td>0</td>\n",
       "      <td>0</td>\n",
       "      <td>34</td>\n",
       "      <td>1</td>\n",
       "      <td>0</td>\n",
       "      <td>DSL</td>\n",
       "      <td>1</td>\n",
       "      <td>0</td>\n",
       "      <td>1</td>\n",
       "      <td>0</td>\n",
       "      <td>0</td>\n",
       "      <td>0</td>\n",
       "      <td>One year</td>\n",
       "      <td>0</td>\n",
       "      <td>Mailed check</td>\n",
       "      <td>56.95</td>\n",
       "      <td>1889.50</td>\n",
       "      <td>0</td>\n",
       "    </tr>\n",
       "    <tr>\n",
       "      <th>2</th>\n",
       "      <td>1</td>\n",
       "      <td>0</td>\n",
       "      <td>0</td>\n",
       "      <td>0</td>\n",
       "      <td>2</td>\n",
       "      <td>1</td>\n",
       "      <td>0</td>\n",
       "      <td>DSL</td>\n",
       "      <td>1</td>\n",
       "      <td>1</td>\n",
       "      <td>0</td>\n",
       "      <td>0</td>\n",
       "      <td>0</td>\n",
       "      <td>0</td>\n",
       "      <td>Month-to-month</td>\n",
       "      <td>1</td>\n",
       "      <td>Mailed check</td>\n",
       "      <td>53.85</td>\n",
       "      <td>108.15</td>\n",
       "      <td>1</td>\n",
       "    </tr>\n",
       "    <tr>\n",
       "      <th>3</th>\n",
       "      <td>1</td>\n",
       "      <td>0</td>\n",
       "      <td>0</td>\n",
       "      <td>0</td>\n",
       "      <td>45</td>\n",
       "      <td>0</td>\n",
       "      <td>0</td>\n",
       "      <td>DSL</td>\n",
       "      <td>1</td>\n",
       "      <td>0</td>\n",
       "      <td>1</td>\n",
       "      <td>1</td>\n",
       "      <td>0</td>\n",
       "      <td>0</td>\n",
       "      <td>One year</td>\n",
       "      <td>0</td>\n",
       "      <td>Bank transfer (automatic)</td>\n",
       "      <td>42.30</td>\n",
       "      <td>1840.75</td>\n",
       "      <td>0</td>\n",
       "    </tr>\n",
       "    <tr>\n",
       "      <th>4</th>\n",
       "      <td>0</td>\n",
       "      <td>0</td>\n",
       "      <td>0</td>\n",
       "      <td>0</td>\n",
       "      <td>2</td>\n",
       "      <td>1</td>\n",
       "      <td>0</td>\n",
       "      <td>Fiber optic</td>\n",
       "      <td>0</td>\n",
       "      <td>0</td>\n",
       "      <td>0</td>\n",
       "      <td>0</td>\n",
       "      <td>0</td>\n",
       "      <td>0</td>\n",
       "      <td>Month-to-month</td>\n",
       "      <td>1</td>\n",
       "      <td>Electronic check</td>\n",
       "      <td>70.70</td>\n",
       "      <td>151.65</td>\n",
       "      <td>1</td>\n",
       "    </tr>\n",
       "  </tbody>\n",
       "</table>\n",
       "</div>"
      ],
      "text/plain": [
       "   gender  SeniorCitizen  Partner  Dependents  tenure  PhoneService  \\\n",
       "0       0              0        1           0       1             0   \n",
       "1       1              0        0           0      34             1   \n",
       "2       1              0        0           0       2             1   \n",
       "3       1              0        0           0      45             0   \n",
       "4       0              0        0           0       2             1   \n",
       "\n",
       "   MultipleLines InternetService  OnlineSecurity  OnlineBackup  \\\n",
       "0              0             DSL               0             1   \n",
       "1              0             DSL               1             0   \n",
       "2              0             DSL               1             1   \n",
       "3              0             DSL               1             0   \n",
       "4              0     Fiber optic               0             0   \n",
       "\n",
       "   DeviceProtection  TechSupport  StreamingTV  StreamingMovies  \\\n",
       "0                 0            0            0                0   \n",
       "1                 1            0            0                0   \n",
       "2                 0            0            0                0   \n",
       "3                 1            1            0                0   \n",
       "4                 0            0            0                0   \n",
       "\n",
       "         Contract  PaperlessBilling              PaymentMethod  \\\n",
       "0  Month-to-month                 1           Electronic check   \n",
       "1        One year                 0               Mailed check   \n",
       "2  Month-to-month                 1               Mailed check   \n",
       "3        One year                 0  Bank transfer (automatic)   \n",
       "4  Month-to-month                 1           Electronic check   \n",
       "\n",
       "   MonthlyCharges  TotalCharges  Churn  \n",
       "0           29.85         29.85      0  \n",
       "1           56.95       1889.50      0  \n",
       "2           53.85        108.15      1  \n",
       "3           42.30       1840.75      0  \n",
       "4           70.70        151.65      1  "
      ]
     },
     "execution_count": 29,
     "metadata": {},
     "output_type": "execute_result"
    }
   ],
   "source": [
    "df.head()"
   ]
  },
  {
   "cell_type": "code",
   "execution_count": 30,
   "metadata": {},
   "outputs": [],
   "source": [
    "#df = pd.get_dummies(df)"
   ]
  },
  {
   "cell_type": "code",
   "execution_count": 31,
   "metadata": {},
   "outputs": [
    {
     "data": {
      "text/html": [
       "<div>\n",
       "<style scoped>\n",
       "    .dataframe tbody tr th:only-of-type {\n",
       "        vertical-align: middle;\n",
       "    }\n",
       "\n",
       "    .dataframe tbody tr th {\n",
       "        vertical-align: top;\n",
       "    }\n",
       "\n",
       "    .dataframe thead th {\n",
       "        text-align: right;\n",
       "    }\n",
       "</style>\n",
       "<table border=\"1\" class=\"dataframe\">\n",
       "  <thead>\n",
       "    <tr style=\"text-align: right;\">\n",
       "      <th></th>\n",
       "      <th>gender</th>\n",
       "      <th>SeniorCitizen</th>\n",
       "      <th>Partner</th>\n",
       "      <th>Dependents</th>\n",
       "      <th>tenure</th>\n",
       "      <th>PhoneService</th>\n",
       "      <th>MultipleLines</th>\n",
       "      <th>InternetService</th>\n",
       "      <th>OnlineSecurity</th>\n",
       "      <th>OnlineBackup</th>\n",
       "      <th>DeviceProtection</th>\n",
       "      <th>TechSupport</th>\n",
       "      <th>StreamingTV</th>\n",
       "      <th>StreamingMovies</th>\n",
       "      <th>Contract</th>\n",
       "      <th>PaperlessBilling</th>\n",
       "      <th>PaymentMethod</th>\n",
       "      <th>MonthlyCharges</th>\n",
       "      <th>TotalCharges</th>\n",
       "      <th>Churn</th>\n",
       "    </tr>\n",
       "  </thead>\n",
       "  <tbody>\n",
       "    <tr>\n",
       "      <th>0</th>\n",
       "      <td>0</td>\n",
       "      <td>0</td>\n",
       "      <td>1</td>\n",
       "      <td>0</td>\n",
       "      <td>1</td>\n",
       "      <td>0</td>\n",
       "      <td>0</td>\n",
       "      <td>DSL</td>\n",
       "      <td>0</td>\n",
       "      <td>1</td>\n",
       "      <td>0</td>\n",
       "      <td>0</td>\n",
       "      <td>0</td>\n",
       "      <td>0</td>\n",
       "      <td>Month-to-month</td>\n",
       "      <td>1</td>\n",
       "      <td>Electronic check</td>\n",
       "      <td>29.85</td>\n",
       "      <td>29.85</td>\n",
       "      <td>0</td>\n",
       "    </tr>\n",
       "    <tr>\n",
       "      <th>1</th>\n",
       "      <td>1</td>\n",
       "      <td>0</td>\n",
       "      <td>0</td>\n",
       "      <td>0</td>\n",
       "      <td>34</td>\n",
       "      <td>1</td>\n",
       "      <td>0</td>\n",
       "      <td>DSL</td>\n",
       "      <td>1</td>\n",
       "      <td>0</td>\n",
       "      <td>1</td>\n",
       "      <td>0</td>\n",
       "      <td>0</td>\n",
       "      <td>0</td>\n",
       "      <td>One year</td>\n",
       "      <td>0</td>\n",
       "      <td>Mailed check</td>\n",
       "      <td>56.95</td>\n",
       "      <td>1889.50</td>\n",
       "      <td>0</td>\n",
       "    </tr>\n",
       "    <tr>\n",
       "      <th>2</th>\n",
       "      <td>1</td>\n",
       "      <td>0</td>\n",
       "      <td>0</td>\n",
       "      <td>0</td>\n",
       "      <td>2</td>\n",
       "      <td>1</td>\n",
       "      <td>0</td>\n",
       "      <td>DSL</td>\n",
       "      <td>1</td>\n",
       "      <td>1</td>\n",
       "      <td>0</td>\n",
       "      <td>0</td>\n",
       "      <td>0</td>\n",
       "      <td>0</td>\n",
       "      <td>Month-to-month</td>\n",
       "      <td>1</td>\n",
       "      <td>Mailed check</td>\n",
       "      <td>53.85</td>\n",
       "      <td>108.15</td>\n",
       "      <td>1</td>\n",
       "    </tr>\n",
       "    <tr>\n",
       "      <th>3</th>\n",
       "      <td>1</td>\n",
       "      <td>0</td>\n",
       "      <td>0</td>\n",
       "      <td>0</td>\n",
       "      <td>45</td>\n",
       "      <td>0</td>\n",
       "      <td>0</td>\n",
       "      <td>DSL</td>\n",
       "      <td>1</td>\n",
       "      <td>0</td>\n",
       "      <td>1</td>\n",
       "      <td>1</td>\n",
       "      <td>0</td>\n",
       "      <td>0</td>\n",
       "      <td>One year</td>\n",
       "      <td>0</td>\n",
       "      <td>Bank transfer (automatic)</td>\n",
       "      <td>42.30</td>\n",
       "      <td>1840.75</td>\n",
       "      <td>0</td>\n",
       "    </tr>\n",
       "    <tr>\n",
       "      <th>4</th>\n",
       "      <td>0</td>\n",
       "      <td>0</td>\n",
       "      <td>0</td>\n",
       "      <td>0</td>\n",
       "      <td>2</td>\n",
       "      <td>1</td>\n",
       "      <td>0</td>\n",
       "      <td>Fiber optic</td>\n",
       "      <td>0</td>\n",
       "      <td>0</td>\n",
       "      <td>0</td>\n",
       "      <td>0</td>\n",
       "      <td>0</td>\n",
       "      <td>0</td>\n",
       "      <td>Month-to-month</td>\n",
       "      <td>1</td>\n",
       "      <td>Electronic check</td>\n",
       "      <td>70.70</td>\n",
       "      <td>151.65</td>\n",
       "      <td>1</td>\n",
       "    </tr>\n",
       "  </tbody>\n",
       "</table>\n",
       "</div>"
      ],
      "text/plain": [
       "   gender  SeniorCitizen  Partner  Dependents  tenure  PhoneService  \\\n",
       "0       0              0        1           0       1             0   \n",
       "1       1              0        0           0      34             1   \n",
       "2       1              0        0           0       2             1   \n",
       "3       1              0        0           0      45             0   \n",
       "4       0              0        0           0       2             1   \n",
       "\n",
       "   MultipleLines InternetService  OnlineSecurity  OnlineBackup  \\\n",
       "0              0             DSL               0             1   \n",
       "1              0             DSL               1             0   \n",
       "2              0             DSL               1             1   \n",
       "3              0             DSL               1             0   \n",
       "4              0     Fiber optic               0             0   \n",
       "\n",
       "   DeviceProtection  TechSupport  StreamingTV  StreamingMovies  \\\n",
       "0                 0            0            0                0   \n",
       "1                 1            0            0                0   \n",
       "2                 0            0            0                0   \n",
       "3                 1            1            0                0   \n",
       "4                 0            0            0                0   \n",
       "\n",
       "         Contract  PaperlessBilling              PaymentMethod  \\\n",
       "0  Month-to-month                 1           Electronic check   \n",
       "1        One year                 0               Mailed check   \n",
       "2  Month-to-month                 1               Mailed check   \n",
       "3        One year                 0  Bank transfer (automatic)   \n",
       "4  Month-to-month                 1           Electronic check   \n",
       "\n",
       "   MonthlyCharges  TotalCharges  Churn  \n",
       "0           29.85         29.85      0  \n",
       "1           56.95       1889.50      0  \n",
       "2           53.85        108.15      1  \n",
       "3           42.30       1840.75      0  \n",
       "4           70.70        151.65      1  "
      ]
     },
     "execution_count": 31,
     "metadata": {},
     "output_type": "execute_result"
    }
   ],
   "source": [
    "df.head()"
   ]
  },
  {
   "cell_type": "code",
   "execution_count": null,
   "metadata": {},
   "outputs": [],
   "source": []
  },
  {
   "cell_type": "markdown",
   "metadata": {},
   "source": [
    "Logistic Regression"
   ]
  },
  {
   "cell_type": "code",
   "execution_count": 32,
   "metadata": {},
   "outputs": [],
   "source": [
    "y = df['Churn']\n",
    "X = df[['TotalCharges','MonthlyCharges', 'tenure', 'gender']]"
   ]
  },
  {
   "cell_type": "code",
   "execution_count": 33,
   "metadata": {},
   "outputs": [],
   "source": [
    "log_reg_ovr = LogisticRegression()\n",
    "X_eğitim, X_test, y_eğitim, y_test =  train_test_split(X,y, test_size=0.20, random_state=111)"
   ]
  },
  {
   "cell_type": "code",
   "execution_count": 34,
   "metadata": {},
   "outputs": [
    {
     "name": "stdout",
     "output_type": "stream",
     "text": [
      "One-vs-rest\n",
      "--------------------\n",
      "Modelin eğitim verisindeki doğruluğu : 0.78\n",
      "Modelin test verisindeki doğruluğu   : 0.79\n"
     ]
    }
   ],
   "source": [
    "log_reg_ovr.fit(X_eğitim, y_eğitim)\n",
    "egitim_dogruluk_ovr = log_reg_ovr.score(X_eğitim, y_eğitim)\n",
    "test_dogruluk_ovr = log_reg_ovr.score(X_test, y_test)\n",
    "print('One-vs-rest', '-'*20, \n",
    "      'Modelin eğitim verisindeki doğruluğu : {:.2f}'.format(egitim_dogruluk_ovr), \n",
    "      'Modelin test verisindeki doğruluğu   : {:.2f}'.format(test_dogruluk_ovr), sep='\\n')"
   ]
  },
  {
   "cell_type": "code",
   "execution_count": 35,
   "metadata": {},
   "outputs": [
    {
     "name": "stdout",
     "output_type": "stream",
     "text": [
      "Multinomial (Softmax)\n",
      "--------------------\n",
      "Modelin eğitim verisindeki doğruluğu : 0.78\n",
      "Modelin test verisindeki doğruluğu   : 0.78\n"
     ]
    }
   ],
   "source": [
    "log_reg_mnm = LogisticRegression(multi_class='multinomial', solver='lbfgs')\n",
    "log_reg_mnm.fit(X_eğitim, y_eğitim)\n",
    "\n",
    "egitim_dogruluk_mnm = log_reg_mnm.score(X_eğitim, y_eğitim)\n",
    "test_dogruluk_mnm = log_reg_mnm.score(X_test, y_test)\n",
    "print('Multinomial (Softmax)', '-'*20, \n",
    "      'Modelin eğitim verisindeki doğruluğu : {:.2f}'.format(egitim_dogruluk_mnm), \n",
    "      'Modelin test verisindeki doğruluğu   : {:.2f}'.format(test_dogruluk_mnm), sep='\\n')"
   ]
  },
  {
   "cell_type": "markdown",
   "metadata": {},
   "source": []
  },
  {
   "cell_type": "code",
   "execution_count": 36,
   "metadata": {},
   "outputs": [],
   "source": [
    "del X[\"gender\"]\n",
    "X[\"TotalCharges * MonthlyCharges \"] = X[\"TotalCharges\"] * X[\"MonthlyCharges\"] "
   ]
  },
  {
   "cell_type": "code",
   "execution_count": 37,
   "metadata": {},
   "outputs": [],
   "source": [
    "X_eğitim, X_test, y_eğitim, y_test =  train_test_split(X,y, test_size=0.20, random_state=111)"
   ]
  },
  {
   "cell_type": "code",
   "execution_count": 38,
   "metadata": {},
   "outputs": [
    {
     "name": "stdout",
     "output_type": "stream",
     "text": [
      "One-vs-rest\n",
      "--------------------\n",
      "Modelin eğitim verisindeki doğruluğu : 0.73\n",
      "Modelin test verisindeki doğruluğu   : 0.76\n"
     ]
    }
   ],
   "source": [
    "log_reg_ovr = LogisticRegression()\n",
    "log_reg_ovr.fit(X_test, y_test)\n",
    "\n",
    "egitim_dogruluk_ovr = log_reg_ovr.score(X_eğitim, y_eğitim)\n",
    "test_dogruluk_ovr = log_reg_ovr.score(X_test, y_test)\n",
    "print('One-vs-rest', '-'*20, \n",
    "      'Modelin eğitim verisindeki doğruluğu : {:.2f}'.format(egitim_dogruluk_ovr), \n",
    "      'Modelin test verisindeki doğruluğu   : {:.2f}'.format(test_dogruluk_ovr), sep='\\n')"
   ]
  },
  {
   "cell_type": "code",
   "execution_count": 39,
   "metadata": {},
   "outputs": [
    {
     "name": "stdout",
     "output_type": "stream",
     "text": [
      "Multinomial (Softmax)\n",
      "--------------------\n",
      "Modelin eğitim verisindeki doğruluğu : 0.78\n",
      "Modelin test verisindeki doğruluğu   : 0.78\n"
     ]
    }
   ],
   "source": [
    "log_reg_mnm = LogisticRegression(multi_class='multinomial', solver='lbfgs')\n",
    "log_reg_mnm.fit(X_eğitim, y_eğitim)\n",
    "egitim_dogruluk_mnm = log_reg_mnm.score(X_eğitim, y_eğitim)\n",
    "test_dogruluk_mnm = log_reg_mnm.score(X_test, y_test)\n",
    "print('Multinomial (Softmax)', '-'*20, \n",
    "      'Modelin eğitim verisindeki doğruluğu : {:.2f}'.format(egitim_dogruluk_mnm), \n",
    "      'Modelin test verisindeki doğruluğu   : {:.2f}'.format(test_dogruluk_mnm), sep='\\n')"
   ]
  },
  {
   "cell_type": "code",
   "execution_count": 40,
   "metadata": {},
   "outputs": [
    {
     "name": "stdout",
     "output_type": "stream",
     "text": [
      "<class 'pandas.core.frame.DataFrame'>\n",
      "RangeIndex: 7043 entries, 0 to 7042\n",
      "Data columns (total 20 columns):\n",
      " #   Column            Non-Null Count  Dtype  \n",
      "---  ------            --------------  -----  \n",
      " 0   gender            7043 non-null   int64  \n",
      " 1   SeniorCitizen     7043 non-null   int64  \n",
      " 2   Partner           7043 non-null   int64  \n",
      " 3   Dependents        7043 non-null   int64  \n",
      " 4   tenure            7043 non-null   int64  \n",
      " 5   PhoneService      7043 non-null   int64  \n",
      " 6   MultipleLines     7043 non-null   int64  \n",
      " 7   InternetService   7043 non-null   object \n",
      " 8   OnlineSecurity    7043 non-null   int64  \n",
      " 9   OnlineBackup      7043 non-null   int64  \n",
      " 10  DeviceProtection  7043 non-null   int64  \n",
      " 11  TechSupport       7043 non-null   int64  \n",
      " 12  StreamingTV       7043 non-null   int64  \n",
      " 13  StreamingMovies   7043 non-null   int64  \n",
      " 14  Contract          7043 non-null   object \n",
      " 15  PaperlessBilling  7043 non-null   int64  \n",
      " 16  PaymentMethod     7043 non-null   object \n",
      " 17  MonthlyCharges    7043 non-null   float64\n",
      " 18  TotalCharges      7043 non-null   float64\n",
      " 19  Churn             7043 non-null   int64  \n",
      "dtypes: float64(2), int64(15), object(3)\n",
      "memory usage: 1018.0+ KB\n"
     ]
    }
   ],
   "source": [
    "df.info()"
   ]
  },
  {
   "cell_type": "code",
   "execution_count": 41,
   "metadata": {},
   "outputs": [],
   "source": [
    "X = df[[\"TotalCharges\",\"MonthlyCharges\",\"tenure\",\"Contract\", \"PaymentMethod\", \"SeniorCitizen\"]]\n",
    "X[\"TotalCharges * MonthlyCharges \"] = X[\"TotalCharges\"] * X[\"MonthlyCharges\"] "
   ]
  },
  {
   "cell_type": "code",
   "execution_count": 42,
   "metadata": {},
   "outputs": [],
   "source": [
    "X= pd.concat([X ,pd.get_dummies(X[\"Contract\"])],axis=1)\n",
    "del X[\"Contract\"]"
   ]
  },
  {
   "cell_type": "code",
   "execution_count": 43,
   "metadata": {},
   "outputs": [],
   "source": [
    "X= pd.concat([X ,pd.get_dummies(X[\"PaymentMethod\"])],axis=1)\n",
    "del X[\"PaymentMethod\"]"
   ]
  },
  {
   "cell_type": "code",
   "execution_count": 44,
   "metadata": {},
   "outputs": [],
   "source": [
    "X_eğitim, X_test, y_eğitim, y_test =  train_test_split(X,y, test_size=0.20, random_state=111)"
   ]
  },
  {
   "cell_type": "code",
   "execution_count": 45,
   "metadata": {},
   "outputs": [
    {
     "data": {
      "text/plain": [
       "LogisticRegression(C=1.0, class_weight=None, dual=False, fit_intercept=True,\n",
       "                   intercept_scaling=1, l1_ratio=None, max_iter=100,\n",
       "                   multi_class='auto', n_jobs=None, penalty='l2',\n",
       "                   random_state=None, solver='lbfgs', tol=0.0001, verbose=0,\n",
       "                   warm_start=False)"
      ]
     },
     "execution_count": 45,
     "metadata": {},
     "output_type": "execute_result"
    }
   ],
   "source": [
    "log_reg_ovr = LogisticRegression()\n",
    "log_reg_ovr.fit(X_test, y_test)"
   ]
  },
  {
   "cell_type": "code",
   "execution_count": 46,
   "metadata": {},
   "outputs": [
    {
     "name": "stdout",
     "output_type": "stream",
     "text": [
      "One-vs-rest\n",
      "--------------------\n",
      "Modelin eğitim verisindeki doğruluğu : 0.73\n",
      "Modelin test verisindeki doğruluğu   : 0.76\n"
     ]
    }
   ],
   "source": [
    "egitim_dogruluk_ovr = log_reg_ovr.score(X_eğitim, y_eğitim)\n",
    "test_dogruluk_ovr = log_reg_ovr.score(X_test, y_test)\n",
    "print('One-vs-rest', '-'*20, \n",
    "      'Modelin eğitim verisindeki doğruluğu : {:.2f}'.format(egitim_dogruluk_ovr), \n",
    "      'Modelin test verisindeki doğruluğu   : {:.2f}'.format(test_dogruluk_ovr), sep='\\n')"
   ]
  },
  {
   "cell_type": "code",
   "execution_count": 47,
   "metadata": {},
   "outputs": [
    {
     "name": "stdout",
     "output_type": "stream",
     "text": [
      "Multinomial (Softmax)\n",
      "--------------------\n",
      "Modelin eğitim verisindeki doğruluğu : 0.76\n",
      "Modelin test verisindeki doğruluğu   : 0.76\n"
     ]
    }
   ],
   "source": [
    "log_reg_mnm = LogisticRegression(multi_class='multinomial', solver='lbfgs')\n",
    "log_reg_mnm.fit(X_eğitim, y_eğitim)\n",
    "egitim_dogruluk_mnm = log_reg_mnm.score(X_eğitim, y_eğitim)\n",
    "test_dogruluk_mnm = log_reg_mnm.score(X_test, y_test)\n",
    "print('Multinomial (Softmax)', '-'*20, \n",
    "      'Modelin eğitim verisindeki doğruluğu : {:.2f}'.format(egitim_dogruluk_mnm), \n",
    "      'Modelin test verisindeki doğruluğu   : {:.2f}'.format(test_dogruluk_mnm), sep='\\n')"
   ]
  },
  {
   "cell_type": "markdown",
   "metadata": {},
   "source": []
  },
  {
   "cell_type": "code",
   "execution_count": 49,
   "metadata": {},
   "outputs": [],
   "source": [
    "X = df[[\"TotalCharges\",\"MonthlyCharges\",\"tenure\",\"Contract\", \"PaymentMethod\", \"SeniorCitizen\", \"InternetService\"]]"
   ]
  },
  {
   "cell_type": "code",
   "execution_count": 50,
   "metadata": {},
   "outputs": [],
   "source": [
    "del X[\"tenure\"]"
   ]
  },
  {
   "cell_type": "code",
   "execution_count": 51,
   "metadata": {},
   "outputs": [],
   "source": [
    "X= pd.concat([X ,pd.get_dummies(X[\"InternetService\"])],axis=1)\n",
    "del X[\"InternetService\"]"
   ]
  },
  {
   "cell_type": "code",
   "execution_count": 52,
   "metadata": {},
   "outputs": [],
   "source": [
    "X= pd.concat([X ,pd.get_dummies(X[\"Contract\"])],axis=1)\n",
    "del X[\"Contract\"]"
   ]
  },
  {
   "cell_type": "code",
   "execution_count": 53,
   "metadata": {},
   "outputs": [],
   "source": [
    "X= pd.concat([X ,pd.get_dummies(X[\"PaymentMethod\"])],axis=1)\n",
    "del X[\"PaymentMethod\"]"
   ]
  },
  {
   "cell_type": "code",
   "execution_count": 54,
   "metadata": {},
   "outputs": [],
   "source": [
    "X[\"TotalCharges * MonthlyCharges \"] = X[\"TotalCharges\"] * X[\"MonthlyCharges\"] "
   ]
  },
  {
   "cell_type": "code",
   "execution_count": 55,
   "metadata": {},
   "outputs": [],
   "source": [
    "X[\"Month-to-month *Electronic check \"] = X[\"Month-to-month\"] * X[\"Electronic check\"]\n",
    "X[\"Fiber optic * TotalCharges\"]=X[\"Fiber optic\"]* X[\"TotalCharges\"]"
   ]
  },
  {
   "cell_type": "code",
   "execution_count": 56,
   "metadata": {},
   "outputs": [
    {
     "data": {
      "text/plain": [
       "LogisticRegression(C=1.0, class_weight=None, dual=False, fit_intercept=True,\n",
       "                   intercept_scaling=1, l1_ratio=None, max_iter=100,\n",
       "                   multi_class='auto', n_jobs=None, penalty='l2',\n",
       "                   random_state=None, solver='lbfgs', tol=0.0001, verbose=0,\n",
       "                   warm_start=False)"
      ]
     },
     "execution_count": 56,
     "metadata": {},
     "output_type": "execute_result"
    }
   ],
   "source": [
    "X_eğitim, X_test, y_eğitim, y_test =  train_test_split(X,y, test_size=0.20, random_state=111)\n",
    "log_reg_ovr = LogisticRegression()\n",
    "log_reg_ovr.fit(X_test, y_test)"
   ]
  },
  {
   "cell_type": "code",
   "execution_count": 57,
   "metadata": {},
   "outputs": [
    {
     "name": "stdout",
     "output_type": "stream",
     "text": [
      "One-vs-rest\n",
      "--------------------\n",
      "Modelin eğitim verisindeki doğruluğu : 0.78\n",
      "Modelin test verisindeki doğruluğu   : 0.79\n"
     ]
    }
   ],
   "source": [
    "egitim_dogruluk_ovr = log_reg_ovr.score(X_eğitim, y_eğitim)\n",
    "test_dogruluk_ovr = log_reg_ovr.score(X_test, y_test)\n",
    "print('One-vs-rest', '-'*20, \n",
    "      'Modelin eğitim verisindeki doğruluğu : {:.2f}'.format(egitim_dogruluk_ovr), \n",
    "      'Modelin test verisindeki doğruluğu   : {:.2f}'.format(test_dogruluk_ovr), sep='\\n')"
   ]
  },
  {
   "cell_type": "code",
   "execution_count": 58,
   "metadata": {},
   "outputs": [
    {
     "name": "stdout",
     "output_type": "stream",
     "text": [
      "Multinomial (Softmax)\n",
      "--------------------\n",
      "Modelin eğitim verisindeki doğruluğu : 0.77\n",
      "Modelin test verisindeki doğruluğu   : 0.76\n"
     ]
    }
   ],
   "source": [
    "log_reg_mnm = LogisticRegression(multi_class='multinomial', solver='lbfgs')\n",
    "log_reg_mnm.fit(X_eğitim, y_eğitim)\n",
    "egitim_dogruluk_mnm = log_reg_mnm.score(X_eğitim, y_eğitim)\n",
    "test_dogruluk_mnm = log_reg_mnm.score(X_test, y_test)\n",
    "print('Multinomial (Softmax)', '-'*20, \n",
    "      'Modelin eğitim verisindeki doğruluğu : {:.2f}'.format(egitim_dogruluk_mnm), \n",
    "      'Modelin test verisindeki doğruluğu   : {:.2f}'.format(test_dogruluk_mnm), sep='\\n')"
   ]
  },
  {
   "cell_type": "code",
   "execution_count": 59,
   "metadata": {},
   "outputs": [
    {
     "data": {
      "text/html": [
       "<div>\n",
       "<style scoped>\n",
       "    .dataframe tbody tr th:only-of-type {\n",
       "        vertical-align: middle;\n",
       "    }\n",
       "\n",
       "    .dataframe tbody tr th {\n",
       "        vertical-align: top;\n",
       "    }\n",
       "\n",
       "    .dataframe thead th {\n",
       "        text-align: right;\n",
       "    }\n",
       "</style>\n",
       "<table border=\"1\" class=\"dataframe\">\n",
       "  <thead>\n",
       "    <tr style=\"text-align: right;\">\n",
       "      <th></th>\n",
       "      <th>TotalCharges</th>\n",
       "      <th>MonthlyCharges</th>\n",
       "      <th>SeniorCitizen</th>\n",
       "      <th>DSL</th>\n",
       "      <th>Fiber optic</th>\n",
       "      <th>No</th>\n",
       "      <th>Month-to-month</th>\n",
       "      <th>One year</th>\n",
       "      <th>Two year</th>\n",
       "      <th>Bank transfer (automatic)</th>\n",
       "      <th>Credit card (automatic)</th>\n",
       "      <th>Electronic check</th>\n",
       "      <th>Mailed check</th>\n",
       "      <th>TotalCharges * MonthlyCharges</th>\n",
       "      <th>Month-to-month *Electronic check</th>\n",
       "      <th>Fiber optic * TotalCharges</th>\n",
       "    </tr>\n",
       "  </thead>\n",
       "  <tbody>\n",
       "    <tr>\n",
       "      <th>0</th>\n",
       "      <td>29.85</td>\n",
       "      <td>29.85</td>\n",
       "      <td>0</td>\n",
       "      <td>1</td>\n",
       "      <td>0</td>\n",
       "      <td>0</td>\n",
       "      <td>1</td>\n",
       "      <td>0</td>\n",
       "      <td>0</td>\n",
       "      <td>0</td>\n",
       "      <td>0</td>\n",
       "      <td>1</td>\n",
       "      <td>0</td>\n",
       "      <td>891.0225</td>\n",
       "      <td>1</td>\n",
       "      <td>0.00</td>\n",
       "    </tr>\n",
       "    <tr>\n",
       "      <th>1</th>\n",
       "      <td>1889.50</td>\n",
       "      <td>56.95</td>\n",
       "      <td>0</td>\n",
       "      <td>1</td>\n",
       "      <td>0</td>\n",
       "      <td>0</td>\n",
       "      <td>0</td>\n",
       "      <td>1</td>\n",
       "      <td>0</td>\n",
       "      <td>0</td>\n",
       "      <td>0</td>\n",
       "      <td>0</td>\n",
       "      <td>1</td>\n",
       "      <td>107607.0250</td>\n",
       "      <td>0</td>\n",
       "      <td>0.00</td>\n",
       "    </tr>\n",
       "    <tr>\n",
       "      <th>2</th>\n",
       "      <td>108.15</td>\n",
       "      <td>53.85</td>\n",
       "      <td>0</td>\n",
       "      <td>1</td>\n",
       "      <td>0</td>\n",
       "      <td>0</td>\n",
       "      <td>1</td>\n",
       "      <td>0</td>\n",
       "      <td>0</td>\n",
       "      <td>0</td>\n",
       "      <td>0</td>\n",
       "      <td>0</td>\n",
       "      <td>1</td>\n",
       "      <td>5823.8775</td>\n",
       "      <td>0</td>\n",
       "      <td>0.00</td>\n",
       "    </tr>\n",
       "    <tr>\n",
       "      <th>3</th>\n",
       "      <td>1840.75</td>\n",
       "      <td>42.30</td>\n",
       "      <td>0</td>\n",
       "      <td>1</td>\n",
       "      <td>0</td>\n",
       "      <td>0</td>\n",
       "      <td>0</td>\n",
       "      <td>1</td>\n",
       "      <td>0</td>\n",
       "      <td>1</td>\n",
       "      <td>0</td>\n",
       "      <td>0</td>\n",
       "      <td>0</td>\n",
       "      <td>77863.7250</td>\n",
       "      <td>0</td>\n",
       "      <td>0.00</td>\n",
       "    </tr>\n",
       "    <tr>\n",
       "      <th>4</th>\n",
       "      <td>151.65</td>\n",
       "      <td>70.70</td>\n",
       "      <td>0</td>\n",
       "      <td>0</td>\n",
       "      <td>1</td>\n",
       "      <td>0</td>\n",
       "      <td>1</td>\n",
       "      <td>0</td>\n",
       "      <td>0</td>\n",
       "      <td>0</td>\n",
       "      <td>0</td>\n",
       "      <td>1</td>\n",
       "      <td>0</td>\n",
       "      <td>10721.6550</td>\n",
       "      <td>1</td>\n",
       "      <td>151.65</td>\n",
       "    </tr>\n",
       "    <tr>\n",
       "      <th>...</th>\n",
       "      <td>...</td>\n",
       "      <td>...</td>\n",
       "      <td>...</td>\n",
       "      <td>...</td>\n",
       "      <td>...</td>\n",
       "      <td>...</td>\n",
       "      <td>...</td>\n",
       "      <td>...</td>\n",
       "      <td>...</td>\n",
       "      <td>...</td>\n",
       "      <td>...</td>\n",
       "      <td>...</td>\n",
       "      <td>...</td>\n",
       "      <td>...</td>\n",
       "      <td>...</td>\n",
       "      <td>...</td>\n",
       "    </tr>\n",
       "    <tr>\n",
       "      <th>7038</th>\n",
       "      <td>1990.50</td>\n",
       "      <td>84.80</td>\n",
       "      <td>0</td>\n",
       "      <td>1</td>\n",
       "      <td>0</td>\n",
       "      <td>0</td>\n",
       "      <td>0</td>\n",
       "      <td>1</td>\n",
       "      <td>0</td>\n",
       "      <td>0</td>\n",
       "      <td>0</td>\n",
       "      <td>0</td>\n",
       "      <td>1</td>\n",
       "      <td>168794.4000</td>\n",
       "      <td>0</td>\n",
       "      <td>0.00</td>\n",
       "    </tr>\n",
       "    <tr>\n",
       "      <th>7039</th>\n",
       "      <td>7362.90</td>\n",
       "      <td>103.20</td>\n",
       "      <td>0</td>\n",
       "      <td>0</td>\n",
       "      <td>1</td>\n",
       "      <td>0</td>\n",
       "      <td>0</td>\n",
       "      <td>1</td>\n",
       "      <td>0</td>\n",
       "      <td>0</td>\n",
       "      <td>1</td>\n",
       "      <td>0</td>\n",
       "      <td>0</td>\n",
       "      <td>759851.2800</td>\n",
       "      <td>0</td>\n",
       "      <td>7362.90</td>\n",
       "    </tr>\n",
       "    <tr>\n",
       "      <th>7040</th>\n",
       "      <td>346.45</td>\n",
       "      <td>29.60</td>\n",
       "      <td>0</td>\n",
       "      <td>1</td>\n",
       "      <td>0</td>\n",
       "      <td>0</td>\n",
       "      <td>1</td>\n",
       "      <td>0</td>\n",
       "      <td>0</td>\n",
       "      <td>0</td>\n",
       "      <td>0</td>\n",
       "      <td>1</td>\n",
       "      <td>0</td>\n",
       "      <td>10254.9200</td>\n",
       "      <td>1</td>\n",
       "      <td>0.00</td>\n",
       "    </tr>\n",
       "    <tr>\n",
       "      <th>7041</th>\n",
       "      <td>306.60</td>\n",
       "      <td>74.40</td>\n",
       "      <td>1</td>\n",
       "      <td>0</td>\n",
       "      <td>1</td>\n",
       "      <td>0</td>\n",
       "      <td>1</td>\n",
       "      <td>0</td>\n",
       "      <td>0</td>\n",
       "      <td>0</td>\n",
       "      <td>0</td>\n",
       "      <td>0</td>\n",
       "      <td>1</td>\n",
       "      <td>22811.0400</td>\n",
       "      <td>0</td>\n",
       "      <td>306.60</td>\n",
       "    </tr>\n",
       "    <tr>\n",
       "      <th>7042</th>\n",
       "      <td>6844.50</td>\n",
       "      <td>105.65</td>\n",
       "      <td>0</td>\n",
       "      <td>0</td>\n",
       "      <td>1</td>\n",
       "      <td>0</td>\n",
       "      <td>0</td>\n",
       "      <td>0</td>\n",
       "      <td>1</td>\n",
       "      <td>1</td>\n",
       "      <td>0</td>\n",
       "      <td>0</td>\n",
       "      <td>0</td>\n",
       "      <td>723121.4250</td>\n",
       "      <td>0</td>\n",
       "      <td>6844.50</td>\n",
       "    </tr>\n",
       "  </tbody>\n",
       "</table>\n",
       "<p>7043 rows × 16 columns</p>\n",
       "</div>"
      ],
      "text/plain": [
       "      TotalCharges  MonthlyCharges  SeniorCitizen  DSL  Fiber optic  No  \\\n",
       "0            29.85           29.85              0    1            0   0   \n",
       "1          1889.50           56.95              0    1            0   0   \n",
       "2           108.15           53.85              0    1            0   0   \n",
       "3          1840.75           42.30              0    1            0   0   \n",
       "4           151.65           70.70              0    0            1   0   \n",
       "...            ...             ...            ...  ...          ...  ..   \n",
       "7038       1990.50           84.80              0    1            0   0   \n",
       "7039       7362.90          103.20              0    0            1   0   \n",
       "7040        346.45           29.60              0    1            0   0   \n",
       "7041        306.60           74.40              1    0            1   0   \n",
       "7042       6844.50          105.65              0    0            1   0   \n",
       "\n",
       "      Month-to-month  One year  Two year  Bank transfer (automatic)  \\\n",
       "0                  1         0         0                          0   \n",
       "1                  0         1         0                          0   \n",
       "2                  1         0         0                          0   \n",
       "3                  0         1         0                          1   \n",
       "4                  1         0         0                          0   \n",
       "...              ...       ...       ...                        ...   \n",
       "7038               0         1         0                          0   \n",
       "7039               0         1         0                          0   \n",
       "7040               1         0         0                          0   \n",
       "7041               1         0         0                          0   \n",
       "7042               0         0         1                          1   \n",
       "\n",
       "      Credit card (automatic)  Electronic check  Mailed check  \\\n",
       "0                           0                 1             0   \n",
       "1                           0                 0             1   \n",
       "2                           0                 0             1   \n",
       "3                           0                 0             0   \n",
       "4                           0                 1             0   \n",
       "...                       ...               ...           ...   \n",
       "7038                        0                 0             1   \n",
       "7039                        1                 0             0   \n",
       "7040                        0                 1             0   \n",
       "7041                        0                 0             1   \n",
       "7042                        0                 0             0   \n",
       "\n",
       "      TotalCharges * MonthlyCharges   Month-to-month *Electronic check   \\\n",
       "0                           891.0225                                  1   \n",
       "1                        107607.0250                                  0   \n",
       "2                          5823.8775                                  0   \n",
       "3                         77863.7250                                  0   \n",
       "4                         10721.6550                                  1   \n",
       "...                              ...                                ...   \n",
       "7038                     168794.4000                                  0   \n",
       "7039                     759851.2800                                  0   \n",
       "7040                      10254.9200                                  1   \n",
       "7041                      22811.0400                                  0   \n",
       "7042                     723121.4250                                  0   \n",
       "\n",
       "      Fiber optic * TotalCharges  \n",
       "0                           0.00  \n",
       "1                           0.00  \n",
       "2                           0.00  \n",
       "3                           0.00  \n",
       "4                         151.65  \n",
       "...                          ...  \n",
       "7038                        0.00  \n",
       "7039                     7362.90  \n",
       "7040                        0.00  \n",
       "7041                      306.60  \n",
       "7042                     6844.50  \n",
       "\n",
       "[7043 rows x 16 columns]"
      ]
     },
     "execution_count": 59,
     "metadata": {},
     "output_type": "execute_result"
    }
   ],
   "source": [
    "X"
   ]
  },
  {
   "cell_type": "code",
   "execution_count": null,
   "metadata": {},
   "outputs": [],
   "source": []
  },
  {
   "cell_type": "markdown",
   "metadata": {},
   "source": []
  },
  {
   "cell_type": "code",
   "execution_count": 60,
   "metadata": {},
   "outputs": [],
   "source": [
    "tahmin_eğitim = log_reg_ovr.predict(X_eğitim)\n",
    "tahmin_test = log_reg_ovr.predict(X_test)"
   ]
  },
  {
   "cell_type": "code",
   "execution_count": 61,
   "metadata": {},
   "outputs": [],
   "source": [
    "tahmin_test_ihtimal = log_reg_ovr.predict_proba(X_test)[:,1]"
   ]
  },
  {
   "cell_type": "code",
   "execution_count": 62,
   "metadata": {},
   "outputs": [],
   "source": [
    "from sklearn.metrics import confusion_matrix\n",
    "hata_matrisi_eğitim = confusion_matrix(y_eğitim, tahmin_eğitim)\n",
    "hata_matrisi_test = confusion_matrix(y_test, tahmin_test)"
   ]
  },
  {
   "cell_type": "code",
   "execution_count": 63,
   "metadata": {},
   "outputs": [
    {
     "name": "stdout",
     "output_type": "stream",
     "text": [
      "Hata Matrisi (Eğitim verileri)\n",
      "------------------------------\n",
      "[[3676  428]\n",
      " [ 831  699]]\n",
      "Hata Matrisi (Test verileri)\n",
      "------------------------------\n",
      "[[952 118]\n",
      " [183 156]]\n"
     ]
    }
   ],
   "source": [
    "print(\"Hata Matrisi (Eğitim verileri)\", \"-\"*30, hata_matrisi_eğitim, sep=\"\\n\")\n",
    "print(\"Hata Matrisi (Test verileri)\", \"-\"*30, hata_matrisi_test, sep=\"\\n\")"
   ]
  },
  {
   "cell_type": "code",
   "execution_count": 64,
   "metadata": {},
   "outputs": [
    {
     "name": "stdout",
     "output_type": "stream",
     "text": [
      "Doğru negatif sayısı   : 952\n",
      "Doğru pozitif sayısı   : 156\n",
      "Yanlış pozitif sayısı  : 118\n",
      "Yanlış negatif sayısı  : 183\n"
     ]
    }
   ],
   "source": [
    "TN = hata_matrisi_test[0][0]\n",
    "TP = hata_matrisi_test[1][1]\n",
    "FP = hata_matrisi_test[0][1]\n",
    "FN = hata_matrisi_test[1][0]\n",
    "\n",
    "print(\"Doğru negatif sayısı   :\", TN)\n",
    "print(\"Doğru pozitif sayısı   :\", TP)\n",
    "print(\"Yanlış pozitif sayısı  :\", FP)\n",
    "print(\"Yanlış negatif sayısı  :\", FN)"
   ]
  },
  {
   "cell_type": "code",
   "execution_count": 65,
   "metadata": {},
   "outputs": [
    {
     "name": "stdout",
     "output_type": "stream",
     "text": [
      "Modelden alınan doğruluk değeri :  0.7863733144073811\n",
      "Hesaplanan doğruluk değeri      :  0.7863733144073811\n",
      "accuracy_score() değeri         :  0.7863733144073811\n"
     ]
    }
   ],
   "source": [
    "from sklearn.metrics import accuracy_score\n",
    "\n",
    "print(\"Modelden alınan doğruluk değeri : \",  log_reg_ovr.score(X_test, y_test))\n",
    "print(\"Hesaplanan doğruluk değeri      : \",  (TN + TP)/(FN + FP + TN + TP))\n",
    "print(\"accuracy_score() değeri         : \",  accuracy_score(y_test, tahmin_test))"
   ]
  },
  {
   "cell_type": "code",
   "execution_count": 66,
   "metadata": {},
   "outputs": [
    {
     "name": "stdout",
     "output_type": "stream",
     "text": [
      "Hesaplanan doğruluk değeri      :  0.5693430656934306\n",
      "precision_score() değeri        :  0.5693430656934306\n"
     ]
    }
   ],
   "source": [
    "from sklearn.metrics import precision_score\n",
    "\n",
    "print(\"Hesaplanan doğruluk değeri      : \",  (TP)/(FP + TP))\n",
    "print(\"precision_score() değeri        : \",  precision_score(y_test, tahmin_test))"
   ]
  },
  {
   "cell_type": "code",
   "execution_count": 67,
   "metadata": {},
   "outputs": [
    {
     "name": "stdout",
     "output_type": "stream",
     "text": [
      "Hesaplanan doğruluk değeri   :  0.46017699115044247\n",
      "recall_score() değeri        :  0.46017699115044247\n"
     ]
    }
   ],
   "source": [
    "from sklearn.metrics import recall_score\n",
    "\n",
    "print(\"Hesaplanan doğruluk değeri   : \",  (TP)/(TP + FN))\n",
    "print(\"recall_score() değeri        : \",  recall_score(y_test, tahmin_test))"
   ]
  },
  {
   "cell_type": "code",
   "execution_count": 68,
   "metadata": {},
   "outputs": [
    {
     "name": "stdout",
     "output_type": "stream",
     "text": [
      "Hesaplanan özgünlük değeri   :  0.8897196261682243\n"
     ]
    }
   ],
   "source": [
    "print(\"Hesaplanan özgünlük değeri   : \",  (TN)/(TN + FP))"
   ]
  },
  {
   "cell_type": "code",
   "execution_count": 69,
   "metadata": {},
   "outputs": [
    {
     "name": "stdout",
     "output_type": "stream",
     "text": [
      "Hesaplanan f1 skoru   :  0.5089722675367048\n",
      "f1_score() değeri     :  0.5089722675367048\n"
     ]
    }
   ],
   "source": [
    "from sklearn.metrics import f1_score\n",
    "\n",
    "hassasiyet_degeri = precision_score(y_test, tahmin_test)\n",
    "duyarlılık_değeri = recall_score(y_test, tahmin_test)\n",
    "\n",
    "\n",
    "print(\"Hesaplanan f1 skoru   : \",  2*((hassasiyet_degeri*duyarlılık_değeri)/(hassasiyet_degeri + duyarlılık_değeri)))\n",
    "print(\"f1_score() değeri     : \",  f1_score(y_test, tahmin_test))"
   ]
  },
  {
   "cell_type": "code",
   "execution_count": 70,
   "metadata": {},
   "outputs": [
    {
     "name": "stdout",
     "output_type": "stream",
     "text": [
      "              precision    recall  f1-score   support\n",
      "\n",
      "           0       0.84      0.89      0.86      1070\n",
      "           1       0.57      0.46      0.51       339\n",
      "\n",
      "    accuracy                           0.79      1409\n",
      "   macro avg       0.70      0.67      0.69      1409\n",
      "weighted avg       0.77      0.79      0.78      1409\n",
      "\n",
      "f1_score() değeri        : 0.51\n",
      "recall_score() değeri    : 0.46\n",
      "precision_score() değeri : 0.57\n",
      "\n",
      "\n",
      "Hassasiyet : [0.83876652 0.56934307]\n",
      "Duyarlılık : [0.88971963 0.46017699]\n",
      "F1 Skoru   : [0.86349206 0.50897227]\n"
     ]
    }
   ],
   "source": [
    "from sklearn.metrics import classification_report, precision_recall_fscore_support\n",
    "\n",
    "print(classification_report(y_test,tahmin_test) )\n",
    "\n",
    "print(\"f1_score() değeri        : {:.2f}\".format(f1_score(y_test, tahmin_test)))\n",
    "print(\"recall_score() değeri    : {:.2f}\".format(recall_score(y_test, tahmin_test)))\n",
    "print(\"precision_score() değeri : {:.2f}\".format(precision_score(y_test, tahmin_test)))\n",
    "print('\\n')\n",
    "\n",
    "metrikler =  precision_recall_fscore_support(y_test, tahmin_test)\n",
    "print(\"Hassasiyet :\" , metrikler[0]) \n",
    "print(\"Duyarlılık :\" , metrikler[1]) \n",
    "print(\"F1 Skoru   :\" , metrikler[2]) "
   ]
  },
  {
   "cell_type": "code",
   "execution_count": null,
   "metadata": {},
   "outputs": [],
   "source": []
  },
  {
   "cell_type": "code",
   "execution_count": 71,
   "metadata": {},
   "outputs": [],
   "source": [
    "tahmin_test_ihtimal = log_reg_ovr.predict_proba(X_test)[:,1]"
   ]
  },
  {
   "cell_type": "code",
   "execution_count": 72,
   "metadata": {},
   "outputs": [
    {
     "data": {
      "image/png": "[encoded data removed]",
      "text/plain": [
       "<Figure size 432x288 with 1 Axes>"
      ]
     },
     "metadata": {
      "needs_background": "light"
     },
     "output_type": "display_data"
    }
   ],
   "source": [
    "from sklearn.metrics import roc_curve, roc_auc_score\n",
    "\n",
    "fpr, tpr, thresholds  = roc_curve(y_test, tahmin_test_ihtimal)\n",
    "\n",
    "import matplotlib.pyplot as plt\n",
    "# Plot ROC curve\n",
    "plt.plot([0, 1], [0, 1], 'k--')\n",
    "plt.plot(fpr, tpr)\n",
    "plt.xlabel('False Positive Rate')\n",
    "plt.ylabel('True Positive Rate')\n",
    "plt.title('ROC Curve')\n",
    "plt.show()"
   ]
  },
  {
   "cell_type": "code",
   "execution_count": 73,
   "metadata": {},
   "outputs": [
    {
     "name": "stdout",
     "output_type": "stream",
     "text": [
      "AUC Değeri :  0.7736994458688281\n"
     ]
    }
   ],
   "source": [
    "print('AUC Değeri : ', roc_auc_score(y_test, tahmin_test_ihtimal))"
   ]
  },
  {
   "cell_type": "code",
   "execution_count": 74,
   "metadata": {},
   "outputs": [
    {
     "data": {
      "image/png": "[encoded data removed]",
      "text/plain": [
       "<Figure size 432x288 with 1 Axes>"
      ]
     },
     "metadata": {
      "needs_background": "light"
     },
     "output_type": "display_data"
    }
   ],
   "source": [
    "from sklearn.metrics import precision_recall_curve\n",
    "hassasiyet, duyarlılık, _ = precision_recall_curve(y_test, tahmin_test_ihtimal)\n",
    "\n",
    "plt.plot(duyarlılık, hassasiyet)\n",
    "plt.show()"
   ]
  },
  {
   "cell_type": "code",
   "execution_count": 75,
   "metadata": {},
   "outputs": [
    {
     "name": "stdout",
     "output_type": "stream",
     "text": [
      "Logartimik Kayıp (log-loss) :  0.48175172349216905\n",
      "Hata Oranı                  :  0.21362668559261888\n"
     ]
    }
   ],
   "source": [
    "from sklearn.metrics import log_loss\n",
    "\n",
    "print(\"Logartimik Kayıp (log-loss) : \" , log_loss(y_test, tahmin_test_ihtimal))\n",
    "print(\"Hata Oranı                  : \" , 1- accuracy_score(y_test, tahmin_test))"
   ]
  },
  {
   "cell_type": "markdown",
   "metadata": {},
   "source": [
    "sınıf dengesizliği"
   ]
  },
  {
   "cell_type": "code",
   "execution_count": 76,
   "metadata": {},
   "outputs": [
    {
     "data": {
      "text/plain": [
       "<matplotlib.axes._subplots.AxesSubplot at 0x1d8a03b8>"
      ]
     },
     "execution_count": 76,
     "metadata": {},
     "output_type": "execute_result"
    },
    {
     "data": {
      "image/png": "[encoded data removed]",
      "text/plain": [
       "<Figure size 432x288 with 1 Axes>"
      ]
     },
     "metadata": {
      "needs_background": "light"
     },
     "output_type": "display_data"
    }
   ],
   "source": [
    "sns.countplot(df.Churn)"
   ]
  },
  {
   "cell_type": "code",
   "execution_count": 77,
   "metadata": {},
   "outputs": [],
   "source": [
    "from sklearn.metrics import confusion_matrix\n",
    "from sklearn.metrics import classification_report"
   ]
  },
  {
   "cell_type": "code",
   "execution_count": 78,
   "metadata": {},
   "outputs": [],
   "source": [
    "def model_olustur(X, y):\n",
    "    X_eğitim, X_test, y_eğitim, y_test =  train_test_split(X, y, test_size=0.20, random_state=111, stratify = y)\n",
    "    logreg_model = LogisticRegression()\n",
    "    logreg_model.fit(X_eğitim, y_eğitim)\n",
    "\n",
    "    tahmin_eğitim = logreg_model.predict(X_eğitim)\n",
    "    tahmin_test = logreg_model.predict(X_test)\n",
    "    \n",
    "    hata_matrisi_eğitim = confusion_matrix(y_eğitim, tahmin_eğitim)\n",
    "    hata_matrisi_test = confusion_matrix(y_test, tahmin_test)\n",
    "    \n",
    "    print(\"Modelin doğruluk değeri : \",  logreg_model.score(X_test, y_test))\n",
    "    print(\"Eğitim veri kümesi\")\n",
    "    print(classification_report(y_eğitim,tahmin_eğitim) )\n",
    "    print(\"Test veri kümesi\")\n",
    "    print(classification_report(y_test,tahmin_test) )\n",
    "    return  None\n"
   ]
  },
  {
   "cell_type": "code",
   "execution_count": 79,
   "metadata": {},
   "outputs": [],
   "source": [
    "df = pd.get_dummies(df)"
   ]
  },
  {
   "cell_type": "code",
   "execution_count": 80,
   "metadata": {},
   "outputs": [
    {
     "name": "stdout",
     "output_type": "stream",
     "text": [
      "Modelin doğruluk değeri :  0.8090844570617459\n",
      "Eğitim veri kümesi\n",
      "              precision    recall  f1-score   support\n",
      "\n",
      "           0       0.85      0.90      0.87      4139\n",
      "           1       0.66      0.55      0.60      1495\n",
      "\n",
      "    accuracy                           0.80      5634\n",
      "   macro avg       0.75      0.72      0.73      5634\n",
      "weighted avg       0.80      0.80      0.80      5634\n",
      "\n",
      "Test veri kümesi\n",
      "              precision    recall  f1-score   support\n",
      "\n",
      "           0       0.85      0.91      0.87      1035\n",
      "           1       0.67      0.54      0.60       374\n",
      "\n",
      "    accuracy                           0.81      1409\n",
      "   macro avg       0.76      0.72      0.74      1409\n",
      "weighted avg       0.80      0.81      0.80      1409\n",
      "\n"
     ]
    }
   ],
   "source": [
    "X = df.drop('Churn', axis=1)\n",
    "y = df['Churn']\n",
    "model_olustur(X,y)"
   ]
  },
  {
   "cell_type": "code",
   "execution_count": 81,
   "metadata": {},
   "outputs": [
    {
     "data": {
      "text/plain": [
       "1    5174\n",
       "0    5174\n",
       "Name: Churn, dtype: int64"
      ]
     },
     "execution_count": 81,
     "metadata": {},
     "output_type": "execute_result"
    }
   ],
   "source": [
    "from sklearn.utils import resample\n",
    "ayrılmayan = df[df.Churn == 0]\n",
    "ayrılan = df[df.Churn == 1]\n",
    "\n",
    "ayrılan_artırılmış = resample(ayrılan,\n",
    "                                     replace = True,\n",
    "                                     n_samples = len(ayrılmayan),\n",
    "                                     random_state = 111)\n",
    "\n",
    "artırılmıs_df = pd.concat([ayrılmayan, ayrılan_artırılmış])\n",
    "artırılmıs_df.Churn.value_counts()"
   ]
  },
  {
   "cell_type": "code",
   "execution_count": 82,
   "metadata": {},
   "outputs": [
    {
     "name": "stdout",
     "output_type": "stream",
     "text": [
      "Modelin doğruluk değeri :  0.7574879227053141\n",
      "Eğitim veri kümesi\n",
      "              precision    recall  f1-score   support\n",
      "\n",
      "           0       0.78      0.73      0.76      4139\n",
      "           1       0.75      0.80      0.77      4139\n",
      "\n",
      "    accuracy                           0.77      8278\n",
      "   macro avg       0.77      0.77      0.77      8278\n",
      "weighted avg       0.77      0.77      0.77      8278\n",
      "\n",
      "Test veri kümesi\n",
      "              precision    recall  f1-score   support\n",
      "\n",
      "           0       0.77      0.73      0.75      1035\n",
      "           1       0.74      0.79      0.76      1035\n",
      "\n",
      "    accuracy                           0.76      2070\n",
      "   macro avg       0.76      0.76      0.76      2070\n",
      "weighted avg       0.76      0.76      0.76      2070\n",
      "\n"
     ]
    }
   ],
   "source": [
    "X = artırılmıs_df.drop('Churn', axis=1)\n",
    "y = artırılmıs_df['Churn']\n",
    "model_olustur(X,y)"
   ]
  },
  {
   "cell_type": "code",
   "execution_count": null,
   "metadata": {},
   "outputs": [],
   "source": []
  },
  {
   "cell_type": "code",
   "execution_count": 83,
   "metadata": {},
   "outputs": [
    {
     "data": {
      "text/plain": [
       "1    1869\n",
       "0    1869\n",
       "Name: Churn, dtype: int64"
      ]
     },
     "execution_count": 83,
     "metadata": {},
     "output_type": "execute_result"
    }
   ],
   "source": [
    "ayrılmayan = df[df.Churn == 0]\n",
    "ayrılan = df[df.Churn == 1]\n",
    "\n",
    "ayrılan_azaltılmış = resample(ayrılmayan,\n",
    "                                     replace = True,\n",
    "                                     n_samples = len(ayrılan),\n",
    "                                     random_state = 111)\n",
    "\n",
    "azaltılmış_df = pd.concat([ayrılan, ayrılan_azaltılmış])\n",
    "azaltılmış_df.Churn.value_counts()"
   ]
  },
  {
   "cell_type": "code",
   "execution_count": 84,
   "metadata": {},
   "outputs": [
    {
     "name": "stdout",
     "output_type": "stream",
     "text": [
      "Modelin doğruluk değeri :  0.7513368983957219\n",
      "Eğitim veri kümesi\n",
      "              precision    recall  f1-score   support\n",
      "\n",
      "           0       0.79      0.72      0.75      1495\n",
      "           1       0.74      0.81      0.77      1495\n",
      "\n",
      "    accuracy                           0.76      2990\n",
      "   macro avg       0.76      0.76      0.76      2990\n",
      "weighted avg       0.76      0.76      0.76      2990\n",
      "\n",
      "Test veri kümesi\n",
      "              precision    recall  f1-score   support\n",
      "\n",
      "           0       0.76      0.74      0.75       374\n",
      "           1       0.74      0.76      0.75       374\n",
      "\n",
      "    accuracy                           0.75       748\n",
      "   macro avg       0.75      0.75      0.75       748\n",
      "weighted avg       0.75      0.75      0.75       748\n",
      "\n"
     ]
    }
   ],
   "source": [
    "X = azaltılmış_df.drop('Churn', axis=1)\n",
    "y = azaltılmış_df['Churn']\n",
    "model_olustur(X,y)"
   ]
  },
  {
   "cell_type": "code",
   "execution_count": 85,
   "metadata": {},
   "outputs": [
    {
     "name": "stdout",
     "output_type": "stream",
     "text": [
      "Modelin doğruluk değeri :  0.8246376811594203\n",
      "Eğitim veri kümesi\n",
      "              precision    recall  f1-score   support\n",
      "\n",
      "           0       0.83      0.82      0.82      4139\n",
      "           1       0.82      0.83      0.83      4139\n",
      "\n",
      "    accuracy                           0.83      8278\n",
      "   macro avg       0.83      0.83      0.83      8278\n",
      "weighted avg       0.83      0.83      0.83      8278\n",
      "\n",
      "Test veri kümesi\n",
      "              precision    recall  f1-score   support\n",
      "\n",
      "           0       0.83      0.82      0.82      1035\n",
      "           1       0.82      0.83      0.83      1035\n",
      "\n",
      "    accuracy                           0.82      2070\n",
      "   macro avg       0.82      0.82      0.82      2070\n",
      "weighted avg       0.82      0.82      0.82      2070\n",
      "\n"
     ]
    }
   ],
   "source": [
    "from imblearn.over_sampling import SMOTE\n",
    "y = df.Churn\n",
    "X = df.drop('Churn', axis=1)\n",
    "\n",
    "sm = SMOTE(random_state=27)\n",
    "X_smote, y_smote = sm.fit_sample(X, y)\n",
    "model_olustur(X_smote, y_smote)"
   ]
  },
  {
   "cell_type": "code",
   "execution_count": 86,
   "metadata": {},
   "outputs": [
    {
     "name": "stdout",
     "output_type": "stream",
     "text": [
      "Modelin doğruluk değeri :  0.822936660268714\n",
      "Eğitim veri kümesi\n",
      "              precision    recall  f1-score   support\n",
      "\n",
      "           0       0.83      0.82      0.82      4139\n",
      "           1       0.82      0.84      0.83      4196\n",
      "\n",
      "    accuracy                           0.83      8335\n",
      "   macro avg       0.83      0.83      0.83      8335\n",
      "weighted avg       0.83      0.83      0.83      8335\n",
      "\n",
      "Test veri kümesi\n",
      "              precision    recall  f1-score   support\n",
      "\n",
      "           0       0.82      0.82      0.82      1035\n",
      "           1       0.82      0.83      0.82      1049\n",
      "\n",
      "    accuracy                           0.82      2084\n",
      "   macro avg       0.82      0.82      0.82      2084\n",
      "weighted avg       0.82      0.82      0.82      2084\n",
      "\n"
     ]
    }
   ],
   "source": [
    "from imblearn.over_sampling import ADASYN\n",
    "y = df.Churn\n",
    "X = df.drop('Churn', axis=1)\n",
    "\n",
    "ad = ADASYN()\n",
    "X_adasyn, y_adasyn = ad.fit_sample(X, y)\n",
    "model_olustur(X_adasyn, y_adasyn)"
   ]
  }
 ],
 "metadata": {
  "kernelspec": {
   "display_name": "Python 3",
   "language": "python",
   "name": "python3"
  },
  "language_info": {
   "codemirror_mode": {
    "name": "ipython",
    "version": 3
   },
   "file_extension": ".py",
   "mimetype": "text/x-python",
   "name": "python",
   "nbconvert_exporter": "python",
   "pygments_lexer": "ipython3",
   "version": "3.8.2"
  }
 },
 "nbformat": 4,
 "nbformat_minor": 4
}
